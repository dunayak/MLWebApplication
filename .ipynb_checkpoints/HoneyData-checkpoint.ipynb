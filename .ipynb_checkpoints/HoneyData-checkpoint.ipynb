{
 "cells": [
  {
   "cell_type": "markdown",
   "id": "c4fc0eb9",
   "metadata": {
    "id": "c4fc0eb9"
   },
   "source": [
    "# Capstone Project: Honey Label Prediction"
   ]
  },
  {
   "cell_type": "markdown",
   "id": "068c3cf0",
   "metadata": {
    "id": "068c3cf0"
   },
   "source": [
    "# DTSC 691: Default Machine Learning Project\n",
    "\n",
    "# Name: Dushyant Nayak\n",
    "\n",
    "\n",
    "\n",
    "# Introduction\n"
   ]
  },
  {
   "cell_type": "markdown",
   "id": "7b4a9b09",
   "metadata": {
    "id": "7b4a9b09"
   },
   "source": [
    "Living a healthy lifestyle is the most desired as well as the most challenging goal of the modern\n",
    "age.\n",
    "\n",
    "People are becoming more aware about the physical activities for fitness, proactive health checkup and food intake. Due to transparencies most of these are in control of the individual except the quality of food. To give an example, we know that protein is a vital macronutrient and there are a variety of protein sources available in the market. A few dairy products such as cottage cheese, Greek Yogurt etc. are great sources of protein. \n",
    "\n",
    "But how do we know that the label provided in the food product is authentic? Egg is a very good source of protein but there are many brands, types of eggs available in the market. Do we know what the difference is?\n",
    "Which one is better than the other?\n",
    "\n",
    "Another example is honey, which is a very rich antioxidant, helps in losing weight and also found\n",
    "to be improving heart health. Health benefits of honey are not limited to a few.\n",
    "The United States has purchased about 666.5 million U.S. dollars of honey from other countries\n",
    "in 2021.\n",
    "\n",
    "In the market, adulterated honey is highly prevalent, and many sorts of adulterations are being\n",
    "detected.The demand for honey is increasing in the world which is attracting honey adulteration too.\n",
    "\n",
    "There are adverse impacts if honey is adulterated such as causing diabetes and other conditions.\n",
    "Due to this, techniques for food authentication are becoming more and more widespread.\n",
    "\n",
    "Food authentication is the analytical procedure to confirm that a food product complies with the\n",
    "information on its label.\n",
    "\n",
    "\n",
    "In this project, I will examine honey datasets (honeydata.rdata) from food authenticity investigations that uses infrared (NIR) spectroscopy. \n",
    "\n",
    "\"NIR produces data of chemical bonding within the food item and each sample produces different wavelengths which measures absorption of light with wavelengths between 780 and 2500 nm.\"\n",
    "\n",
    "Please refer to below link to know more about NIR.\n",
    "\n",
    "https://www.impopen.com/introduction-near-infrared-nir-spectroscopy\n",
    "\n",
    "The characteristics of transflectance spectra recorded over a variety of wavelengths which makes up the NIR datasets. \n",
    "\n",
    "In this research we will seek to ascertain whether labels of the food samples are accurate. \n",
    "\n",
    "This corresponds to a multi-category supervised classification problem, where the known and predicted labels are compared after a classifier has been trained on a batch of data. Additional quality testing can be performed on the samples that are found to have possibly erroneous labels.\n",
    "\n",
    "Please refer below to know more\n",
    "\n",
    "https://www.researchgate.net/publication/222693606_A_comparison_of_model-based_and_regression_classification_techniques_applied_to_near_infrared_spectroscopic_data_in_food_authentication_studies"
   ]
  },
  {
   "cell_type": "markdown",
   "id": "75218bf9",
   "metadata": {
    "id": "75218bf9"
   },
   "source": [
    "## Data Description\n",
    "\n",
    "As part of the journey, we are going to analyze honey datasets from food authenticity investigations that were generated through infrared (NIR) spectroscopy.\n",
    "\n",
    "Honey samples (labeled as pure or adulterated by different adulterants).\n",
    "\n",
    "Spectra of 478 samples of pure and contaminated honey were recorded over 700 wavelengths in the honey data.\n",
    "The samples of adulterated honey are then classified into four types according to the type of adulteration: Fully-inverted beet syrup (BI), Fructose: glucose combinations (FG) and High fructose corn syrup (HFCS).\n",
    "\n",
    "In the dataset, 700 explanatory variables which are predictors. More precisely, the actual predictors will be the components obtained after feature reduction. The outcome will be the class."
   ]
  },
  {
   "cell_type": "markdown",
   "id": "ba7321f7",
   "metadata": {
    "id": "ba7321f7"
   },
   "source": [
    "### Data Acquisition: \n",
    "\n",
    "Original Dataset is honeydata.rdata) was acquired from the researcher over email along with the approval to use it for my project. I processed the honeydata.rdata file and created csv file for better handling.\n",
    "\n",
    "Dataset csv file (honeydata.csv) will be available in Github and will be shared if needed.\n",
    "Honey samples (labeled as pure or adulterated by different adulterants)."
   ]
  },
  {
   "cell_type": "code",
   "execution_count": 1,
   "id": "e72a2e63",
   "metadata": {
    "colab": {
     "base_uri": "https://localhost:8080/"
    },
    "id": "e72a2e63",
    "outputId": "1e56a8fe-c478-4cdd-fbe4-83e928cfc606"
   },
   "outputs": [
    {
     "name": "stderr",
     "output_type": "stream",
     "text": [
      "/Users/dunayak/opt/anaconda3/lib/python3.9/site-packages/scipy/__init__.py:146: UserWarning: A NumPy version >=1.16.5 and <1.23.0 is required for this version of SciPy (detected version 1.23.5\n",
      "  warnings.warn(f\"A NumPy version >={np_minversion} and <{np_maxversion}\"\n"
     ]
    }
   ],
   "source": [
    "# Importing all necessary Libraries\n",
    "import pyreadr\n",
    "import numpy as np\n",
    "import pandas as pd\n",
    "import matplotlib.pyplot as plt\n",
    "import seaborn as sns\n",
    "import pickle\n",
    "from sklearn.utils import extmath\n",
    "from sklearn.metrics.pairwise import euclidean_distances\n",
    "from sklearn.metrics import confusion_matrix\n",
    "from sklearn import metrics \n",
    "from mpl_toolkits import mplot3d\n",
    "# Data preprocessing\n",
    "\n",
    "\n",
    "from sklearn.model_selection import train_test_split\n",
    "from sklearn.preprocessing import StandardScaler, KernelCenterer,LabelEncoder\n",
    "from sklearn.decomposition import PCA, KernelPCA\n",
    "from sklearn.linear_model import SGDClassifier\n",
    "from sklearn.manifold import TSNE\n",
    "from sklearn.manifold import Isomap\n",
    "\n",
    "# Machine Learning Algorithms\n",
    "from sklearn.discriminant_analysis import LinearDiscriminantAnalysis as LDA\n",
    "from sklearn.cross_decomposition import PLSRegression\n",
    "from sklearn.discriminant_analysis import QuadraticDiscriminantAnalysis as QDA\n",
    "from sklearn.neighbors import KNeighborsClassifier\n",
    "from sklearn import svm\n",
    "from sklearn.linear_model import LogisticRegression\n",
    "from sklearn.cross_decomposition import PLSRegression\n",
    "\n"
   ]
  },
  {
   "cell_type": "markdown",
   "id": "d5feedeb",
   "metadata": {
    "id": "d5feedeb"
   },
   "source": [
    "### Data Preparation \n",
    "\n"
   ]
  },
  {
   "cell_type": "code",
   "execution_count": 2,
   "id": "71d62e01",
   "metadata": {
    "colab": {
     "base_uri": "https://localhost:8080/",
     "height": 73
    },
    "id": "71d62e01",
    "outputId": "578cc50c-3778-4382-a8ab-c91d6a9e959a"
   },
   "outputs": [],
   "source": [
    "# Actual data file is honeydata.rdata, I converted it into dataframe and then to a csv file \n",
    "\n",
    "# result=pyreadr.read_r('honeydata.rdata')\n",
    "\n",
    "# file = files.upload()\n"
   ]
  },
  {
   "cell_type": "code",
   "execution_count": 3,
   "id": "HCcQKUE6HxEa",
   "metadata": {
    "id": "HCcQKUE6HxEa"
   },
   "outputs": [
    {
     "data": {
      "text/html": [
       "<div>\n",
       "<style scoped>\n",
       "    .dataframe tbody tr th:only-of-type {\n",
       "        vertical-align: middle;\n",
       "    }\n",
       "\n",
       "    .dataframe tbody tr th {\n",
       "        vertical-align: top;\n",
       "    }\n",
       "\n",
       "    .dataframe thead th {\n",
       "        text-align: right;\n",
       "    }\n",
       "</style>\n",
       "<table border=\"1\" class=\"dataframe\">\n",
       "  <thead>\n",
       "    <tr style=\"text-align: right;\">\n",
       "      <th></th>\n",
       "      <th>1100</th>\n",
       "      <th>1102</th>\n",
       "      <th>1104</th>\n",
       "      <th>1106</th>\n",
       "      <th>1108</th>\n",
       "      <th>1110</th>\n",
       "      <th>1112</th>\n",
       "      <th>1114</th>\n",
       "      <th>1116</th>\n",
       "      <th>1118</th>\n",
       "      <th>...</th>\n",
       "      <th>2482</th>\n",
       "      <th>2484</th>\n",
       "      <th>2486</th>\n",
       "      <th>2488</th>\n",
       "      <th>2490</th>\n",
       "      <th>2492</th>\n",
       "      <th>2494</th>\n",
       "      <th>2496</th>\n",
       "      <th>2498</th>\n",
       "      <th>Honey Label</th>\n",
       "    </tr>\n",
       "  </thead>\n",
       "  <tbody>\n",
       "    <tr>\n",
       "      <th>0</th>\n",
       "      <td>0.045821</td>\n",
       "      <td>0.045919</td>\n",
       "      <td>0.046006</td>\n",
       "      <td>0.046081</td>\n",
       "      <td>0.046127</td>\n",
       "      <td>0.046154</td>\n",
       "      <td>0.046193</td>\n",
       "      <td>0.046263</td>\n",
       "      <td>0.046355</td>\n",
       "      <td>0.046462</td>\n",
       "      <td>...</td>\n",
       "      <td>1.234959</td>\n",
       "      <td>1.241331</td>\n",
       "      <td>1.246504</td>\n",
       "      <td>1.250619</td>\n",
       "      <td>1.253306</td>\n",
       "      <td>1.254781</td>\n",
       "      <td>1.255183</td>\n",
       "      <td>1.254414</td>\n",
       "      <td>1.252608</td>\n",
       "      <td>PURE</td>\n",
       "    </tr>\n",
       "    <tr>\n",
       "      <th>1</th>\n",
       "      <td>0.046689</td>\n",
       "      <td>0.046794</td>\n",
       "      <td>0.046888</td>\n",
       "      <td>0.046968</td>\n",
       "      <td>0.047018</td>\n",
       "      <td>0.047048</td>\n",
       "      <td>0.047092</td>\n",
       "      <td>0.047168</td>\n",
       "      <td>0.047267</td>\n",
       "      <td>0.047380</td>\n",
       "      <td>...</td>\n",
       "      <td>1.234513</td>\n",
       "      <td>1.241048</td>\n",
       "      <td>1.246333</td>\n",
       "      <td>1.250335</td>\n",
       "      <td>1.253182</td>\n",
       "      <td>1.254740</td>\n",
       "      <td>1.255117</td>\n",
       "      <td>1.254655</td>\n",
       "      <td>1.253190</td>\n",
       "      <td>PURE</td>\n",
       "    </tr>\n",
       "    <tr>\n",
       "      <th>2</th>\n",
       "      <td>0.046001</td>\n",
       "      <td>0.046102</td>\n",
       "      <td>0.046191</td>\n",
       "      <td>0.046267</td>\n",
       "      <td>0.046318</td>\n",
       "      <td>0.046352</td>\n",
       "      <td>0.046395</td>\n",
       "      <td>0.046464</td>\n",
       "      <td>0.046560</td>\n",
       "      <td>0.046673</td>\n",
       "      <td>...</td>\n",
       "      <td>1.234073</td>\n",
       "      <td>1.240602</td>\n",
       "      <td>1.245771</td>\n",
       "      <td>1.249675</td>\n",
       "      <td>1.252433</td>\n",
       "      <td>1.253965</td>\n",
       "      <td>1.254278</td>\n",
       "      <td>1.253536</td>\n",
       "      <td>1.251884</td>\n",
       "      <td>PURE</td>\n",
       "    </tr>\n",
       "    <tr>\n",
       "      <th>3</th>\n",
       "      <td>0.048385</td>\n",
       "      <td>0.048487</td>\n",
       "      <td>0.048575</td>\n",
       "      <td>0.048646</td>\n",
       "      <td>0.048689</td>\n",
       "      <td>0.048718</td>\n",
       "      <td>0.048762</td>\n",
       "      <td>0.048838</td>\n",
       "      <td>0.048936</td>\n",
       "      <td>0.049045</td>\n",
       "      <td>...</td>\n",
       "      <td>1.239489</td>\n",
       "      <td>1.245921</td>\n",
       "      <td>1.251192</td>\n",
       "      <td>1.255113</td>\n",
       "      <td>1.257610</td>\n",
       "      <td>1.259046</td>\n",
       "      <td>1.259366</td>\n",
       "      <td>1.258606</td>\n",
       "      <td>1.257072</td>\n",
       "      <td>PURE</td>\n",
       "    </tr>\n",
       "    <tr>\n",
       "      <th>4</th>\n",
       "      <td>0.049068</td>\n",
       "      <td>0.049169</td>\n",
       "      <td>0.049260</td>\n",
       "      <td>0.049334</td>\n",
       "      <td>0.049379</td>\n",
       "      <td>0.049408</td>\n",
       "      <td>0.049452</td>\n",
       "      <td>0.049526</td>\n",
       "      <td>0.049624</td>\n",
       "      <td>0.049736</td>\n",
       "      <td>...</td>\n",
       "      <td>1.237661</td>\n",
       "      <td>1.244178</td>\n",
       "      <td>1.249474</td>\n",
       "      <td>1.253660</td>\n",
       "      <td>1.256330</td>\n",
       "      <td>1.257720</td>\n",
       "      <td>1.258104</td>\n",
       "      <td>1.257498</td>\n",
       "      <td>1.255944</td>\n",
       "      <td>PURE</td>\n",
       "    </tr>\n",
       "    <tr>\n",
       "      <th>...</th>\n",
       "      <td>...</td>\n",
       "      <td>...</td>\n",
       "      <td>...</td>\n",
       "      <td>...</td>\n",
       "      <td>...</td>\n",
       "      <td>...</td>\n",
       "      <td>...</td>\n",
       "      <td>...</td>\n",
       "      <td>...</td>\n",
       "      <td>...</td>\n",
       "      <td>...</td>\n",
       "      <td>...</td>\n",
       "      <td>...</td>\n",
       "      <td>...</td>\n",
       "      <td>...</td>\n",
       "      <td>...</td>\n",
       "      <td>...</td>\n",
       "      <td>...</td>\n",
       "      <td>...</td>\n",
       "      <td>...</td>\n",
       "      <td>...</td>\n",
       "    </tr>\n",
       "    <tr>\n",
       "      <th>473</th>\n",
       "      <td>0.052872</td>\n",
       "      <td>0.052989</td>\n",
       "      <td>0.053077</td>\n",
       "      <td>0.053124</td>\n",
       "      <td>0.053138</td>\n",
       "      <td>0.053141</td>\n",
       "      <td>0.053160</td>\n",
       "      <td>0.053207</td>\n",
       "      <td>0.053275</td>\n",
       "      <td>0.053372</td>\n",
       "      <td>...</td>\n",
       "      <td>1.226327</td>\n",
       "      <td>1.232670</td>\n",
       "      <td>1.237736</td>\n",
       "      <td>1.241450</td>\n",
       "      <td>1.243997</td>\n",
       "      <td>1.245384</td>\n",
       "      <td>1.245688</td>\n",
       "      <td>1.245300</td>\n",
       "      <td>1.243890</td>\n",
       "      <td>HFCS</td>\n",
       "    </tr>\n",
       "    <tr>\n",
       "      <th>474</th>\n",
       "      <td>0.053472</td>\n",
       "      <td>0.053585</td>\n",
       "      <td>0.053669</td>\n",
       "      <td>0.053716</td>\n",
       "      <td>0.053735</td>\n",
       "      <td>0.053744</td>\n",
       "      <td>0.053766</td>\n",
       "      <td>0.053815</td>\n",
       "      <td>0.053888</td>\n",
       "      <td>0.053987</td>\n",
       "      <td>...</td>\n",
       "      <td>1.225289</td>\n",
       "      <td>1.231519</td>\n",
       "      <td>1.236439</td>\n",
       "      <td>1.240126</td>\n",
       "      <td>1.242579</td>\n",
       "      <td>1.243923</td>\n",
       "      <td>1.244446</td>\n",
       "      <td>1.243841</td>\n",
       "      <td>1.242360</td>\n",
       "      <td>HFCS</td>\n",
       "    </tr>\n",
       "    <tr>\n",
       "      <th>475</th>\n",
       "      <td>0.054380</td>\n",
       "      <td>0.054500</td>\n",
       "      <td>0.054584</td>\n",
       "      <td>0.054630</td>\n",
       "      <td>0.054650</td>\n",
       "      <td>0.054660</td>\n",
       "      <td>0.054680</td>\n",
       "      <td>0.054728</td>\n",
       "      <td>0.054802</td>\n",
       "      <td>0.054905</td>\n",
       "      <td>...</td>\n",
       "      <td>1.227429</td>\n",
       "      <td>1.233494</td>\n",
       "      <td>1.238238</td>\n",
       "      <td>1.241769</td>\n",
       "      <td>1.244228</td>\n",
       "      <td>1.245722</td>\n",
       "      <td>1.246142</td>\n",
       "      <td>1.245564</td>\n",
       "      <td>1.244087</td>\n",
       "      <td>HFCS</td>\n",
       "    </tr>\n",
       "    <tr>\n",
       "      <th>476</th>\n",
       "      <td>0.051853</td>\n",
       "      <td>0.051967</td>\n",
       "      <td>0.052051</td>\n",
       "      <td>0.052099</td>\n",
       "      <td>0.052118</td>\n",
       "      <td>0.052126</td>\n",
       "      <td>0.052148</td>\n",
       "      <td>0.052196</td>\n",
       "      <td>0.052266</td>\n",
       "      <td>0.052364</td>\n",
       "      <td>...</td>\n",
       "      <td>1.223287</td>\n",
       "      <td>1.229359</td>\n",
       "      <td>1.234314</td>\n",
       "      <td>1.237890</td>\n",
       "      <td>1.240214</td>\n",
       "      <td>1.241604</td>\n",
       "      <td>1.241979</td>\n",
       "      <td>1.241442</td>\n",
       "      <td>1.239931</td>\n",
       "      <td>HFCS</td>\n",
       "    </tr>\n",
       "    <tr>\n",
       "      <th>477</th>\n",
       "      <td>0.051704</td>\n",
       "      <td>0.051819</td>\n",
       "      <td>0.051908</td>\n",
       "      <td>0.051959</td>\n",
       "      <td>0.051978</td>\n",
       "      <td>0.051988</td>\n",
       "      <td>0.052011</td>\n",
       "      <td>0.052058</td>\n",
       "      <td>0.052126</td>\n",
       "      <td>0.052225</td>\n",
       "      <td>...</td>\n",
       "      <td>1.236813</td>\n",
       "      <td>1.242849</td>\n",
       "      <td>1.247558</td>\n",
       "      <td>1.251019</td>\n",
       "      <td>1.253311</td>\n",
       "      <td>1.254358</td>\n",
       "      <td>1.254426</td>\n",
       "      <td>1.253611</td>\n",
       "      <td>1.251954</td>\n",
       "      <td>HFCS</td>\n",
       "    </tr>\n",
       "  </tbody>\n",
       "</table>\n",
       "<p>478 rows × 701 columns</p>\n",
       "</div>"
      ],
      "text/plain": [
       "         1100      1102      1104      1106      1108      1110      1112  \\\n",
       "0    0.045821  0.045919  0.046006  0.046081  0.046127  0.046154  0.046193   \n",
       "1    0.046689  0.046794  0.046888  0.046968  0.047018  0.047048  0.047092   \n",
       "2    0.046001  0.046102  0.046191  0.046267  0.046318  0.046352  0.046395   \n",
       "3    0.048385  0.048487  0.048575  0.048646  0.048689  0.048718  0.048762   \n",
       "4    0.049068  0.049169  0.049260  0.049334  0.049379  0.049408  0.049452   \n",
       "..        ...       ...       ...       ...       ...       ...       ...   \n",
       "473  0.052872  0.052989  0.053077  0.053124  0.053138  0.053141  0.053160   \n",
       "474  0.053472  0.053585  0.053669  0.053716  0.053735  0.053744  0.053766   \n",
       "475  0.054380  0.054500  0.054584  0.054630  0.054650  0.054660  0.054680   \n",
       "476  0.051853  0.051967  0.052051  0.052099  0.052118  0.052126  0.052148   \n",
       "477  0.051704  0.051819  0.051908  0.051959  0.051978  0.051988  0.052011   \n",
       "\n",
       "         1114      1116      1118  ...      2482      2484      2486  \\\n",
       "0    0.046263  0.046355  0.046462  ...  1.234959  1.241331  1.246504   \n",
       "1    0.047168  0.047267  0.047380  ...  1.234513  1.241048  1.246333   \n",
       "2    0.046464  0.046560  0.046673  ...  1.234073  1.240602  1.245771   \n",
       "3    0.048838  0.048936  0.049045  ...  1.239489  1.245921  1.251192   \n",
       "4    0.049526  0.049624  0.049736  ...  1.237661  1.244178  1.249474   \n",
       "..        ...       ...       ...  ...       ...       ...       ...   \n",
       "473  0.053207  0.053275  0.053372  ...  1.226327  1.232670  1.237736   \n",
       "474  0.053815  0.053888  0.053987  ...  1.225289  1.231519  1.236439   \n",
       "475  0.054728  0.054802  0.054905  ...  1.227429  1.233494  1.238238   \n",
       "476  0.052196  0.052266  0.052364  ...  1.223287  1.229359  1.234314   \n",
       "477  0.052058  0.052126  0.052225  ...  1.236813  1.242849  1.247558   \n",
       "\n",
       "         2488      2490      2492      2494      2496      2498  Honey Label  \n",
       "0    1.250619  1.253306  1.254781  1.255183  1.254414  1.252608         PURE  \n",
       "1    1.250335  1.253182  1.254740  1.255117  1.254655  1.253190         PURE  \n",
       "2    1.249675  1.252433  1.253965  1.254278  1.253536  1.251884         PURE  \n",
       "3    1.255113  1.257610  1.259046  1.259366  1.258606  1.257072         PURE  \n",
       "4    1.253660  1.256330  1.257720  1.258104  1.257498  1.255944         PURE  \n",
       "..        ...       ...       ...       ...       ...       ...          ...  \n",
       "473  1.241450  1.243997  1.245384  1.245688  1.245300  1.243890         HFCS  \n",
       "474  1.240126  1.242579  1.243923  1.244446  1.243841  1.242360         HFCS  \n",
       "475  1.241769  1.244228  1.245722  1.246142  1.245564  1.244087         HFCS  \n",
       "476  1.237890  1.240214  1.241604  1.241979  1.241442  1.239931         HFCS  \n",
       "477  1.251019  1.253311  1.254358  1.254426  1.253611  1.251954         HFCS  \n",
       "\n",
       "[478 rows x 701 columns]"
      ]
     },
     "execution_count": 3,
     "metadata": {},
     "output_type": "execute_result"
    }
   ],
   "source": [
    "# result=pyreadr.read_r('honeydata.rdata')\n",
    "# Reading previously created csv file and creating DataFrame out of it.\n",
    "honeydata_df=pd.read_csv('static/data/honeydata.csv')\n",
    "\n",
    "honeydata_df=honeydata_df.drop('label',axis=1) # Dropping label columns as Honey Label provides specific information\n",
    "honeydata_df[\"label.full\"]=honeydata_df[\"label.full\"].map(str.upper)\n",
    "# Renaming column name to meaningful name \n",
    "honeydata=honeydata_df.rename(columns={\"label.full\": \"Honey Label\"})\n",
    "honeydata"
   ]
  },
  {
   "cell_type": "code",
   "execution_count": 4,
   "id": "75d8e833",
   "metadata": {},
   "outputs": [
    {
     "data": {
      "text/plain": [
       "0"
      ]
     },
     "execution_count": 4,
     "metadata": {},
     "output_type": "execute_result"
    }
   ],
   "source": [
    "# Checking if any row(s) has null values in Honey Label column\n",
    "\n",
    "honeydata['Honey Label'].isna().sum()\n"
   ]
  },
  {
   "cell_type": "code",
   "execution_count": 5,
   "id": "1fae9c57",
   "metadata": {},
   "outputs": [
    {
     "data": {
      "text/plain": [
       "0"
      ]
     },
     "execution_count": 5,
     "metadata": {},
     "output_type": "execute_result"
    }
   ],
   "source": [
    "# Checking null value count in whole dataframe\n",
    "honeydata.isna().sum().sum()"
   ]
  },
  {
   "cell_type": "code",
   "execution_count": 6,
   "id": "57237afe",
   "metadata": {},
   "outputs": [],
   "source": [
    "# Replacing null values with 0\n",
    "# honeydata.fillna(value=0,inplace=True)"
   ]
  },
  {
   "cell_type": "code",
   "execution_count": 7,
   "id": "9b729221",
   "metadata": {
    "id": "9b729221"
   },
   "outputs": [
    {
     "data": {
      "text/html": [
       "<div>\n",
       "<style scoped>\n",
       "    .dataframe tbody tr th:only-of-type {\n",
       "        vertical-align: middle;\n",
       "    }\n",
       "\n",
       "    .dataframe tbody tr th {\n",
       "        vertical-align: top;\n",
       "    }\n",
       "\n",
       "    .dataframe thead th {\n",
       "        text-align: right;\n",
       "    }\n",
       "</style>\n",
       "<table border=\"1\" class=\"dataframe\">\n",
       "  <thead>\n",
       "    <tr style=\"text-align: right;\">\n",
       "      <th></th>\n",
       "      <th>1100</th>\n",
       "      <th>1102</th>\n",
       "      <th>1104</th>\n",
       "      <th>1106</th>\n",
       "      <th>1108</th>\n",
       "      <th>1110</th>\n",
       "      <th>1112</th>\n",
       "      <th>1114</th>\n",
       "      <th>1116</th>\n",
       "      <th>1118</th>\n",
       "      <th>...</th>\n",
       "      <th>2480</th>\n",
       "      <th>2482</th>\n",
       "      <th>2484</th>\n",
       "      <th>2486</th>\n",
       "      <th>2488</th>\n",
       "      <th>2490</th>\n",
       "      <th>2492</th>\n",
       "      <th>2494</th>\n",
       "      <th>2496</th>\n",
       "      <th>2498</th>\n",
       "    </tr>\n",
       "  </thead>\n",
       "  <tbody>\n",
       "    <tr>\n",
       "      <th>0</th>\n",
       "      <td>0.045821</td>\n",
       "      <td>0.045919</td>\n",
       "      <td>0.046006</td>\n",
       "      <td>0.046081</td>\n",
       "      <td>0.046127</td>\n",
       "      <td>0.046154</td>\n",
       "      <td>0.046193</td>\n",
       "      <td>0.046263</td>\n",
       "      <td>0.046355</td>\n",
       "      <td>0.046462</td>\n",
       "      <td>...</td>\n",
       "      <td>1.227317</td>\n",
       "      <td>1.234959</td>\n",
       "      <td>1.241331</td>\n",
       "      <td>1.246504</td>\n",
       "      <td>1.250619</td>\n",
       "      <td>1.253306</td>\n",
       "      <td>1.254781</td>\n",
       "      <td>1.255183</td>\n",
       "      <td>1.254414</td>\n",
       "      <td>1.252608</td>\n",
       "    </tr>\n",
       "    <tr>\n",
       "      <th>1</th>\n",
       "      <td>0.046689</td>\n",
       "      <td>0.046794</td>\n",
       "      <td>0.046888</td>\n",
       "      <td>0.046968</td>\n",
       "      <td>0.047018</td>\n",
       "      <td>0.047048</td>\n",
       "      <td>0.047092</td>\n",
       "      <td>0.047168</td>\n",
       "      <td>0.047267</td>\n",
       "      <td>0.047380</td>\n",
       "      <td>...</td>\n",
       "      <td>1.226857</td>\n",
       "      <td>1.234513</td>\n",
       "      <td>1.241048</td>\n",
       "      <td>1.246333</td>\n",
       "      <td>1.250335</td>\n",
       "      <td>1.253182</td>\n",
       "      <td>1.254740</td>\n",
       "      <td>1.255117</td>\n",
       "      <td>1.254655</td>\n",
       "      <td>1.253190</td>\n",
       "    </tr>\n",
       "    <tr>\n",
       "      <th>2</th>\n",
       "      <td>0.046001</td>\n",
       "      <td>0.046102</td>\n",
       "      <td>0.046191</td>\n",
       "      <td>0.046267</td>\n",
       "      <td>0.046318</td>\n",
       "      <td>0.046352</td>\n",
       "      <td>0.046395</td>\n",
       "      <td>0.046464</td>\n",
       "      <td>0.046560</td>\n",
       "      <td>0.046673</td>\n",
       "      <td>...</td>\n",
       "      <td>1.226350</td>\n",
       "      <td>1.234073</td>\n",
       "      <td>1.240602</td>\n",
       "      <td>1.245771</td>\n",
       "      <td>1.249675</td>\n",
       "      <td>1.252433</td>\n",
       "      <td>1.253965</td>\n",
       "      <td>1.254278</td>\n",
       "      <td>1.253536</td>\n",
       "      <td>1.251884</td>\n",
       "    </tr>\n",
       "    <tr>\n",
       "      <th>3</th>\n",
       "      <td>0.048385</td>\n",
       "      <td>0.048487</td>\n",
       "      <td>0.048575</td>\n",
       "      <td>0.048646</td>\n",
       "      <td>0.048689</td>\n",
       "      <td>0.048718</td>\n",
       "      <td>0.048762</td>\n",
       "      <td>0.048838</td>\n",
       "      <td>0.048936</td>\n",
       "      <td>0.049045</td>\n",
       "      <td>...</td>\n",
       "      <td>1.231740</td>\n",
       "      <td>1.239489</td>\n",
       "      <td>1.245921</td>\n",
       "      <td>1.251192</td>\n",
       "      <td>1.255113</td>\n",
       "      <td>1.257610</td>\n",
       "      <td>1.259046</td>\n",
       "      <td>1.259366</td>\n",
       "      <td>1.258606</td>\n",
       "      <td>1.257072</td>\n",
       "    </tr>\n",
       "    <tr>\n",
       "      <th>4</th>\n",
       "      <td>0.049068</td>\n",
       "      <td>0.049169</td>\n",
       "      <td>0.049260</td>\n",
       "      <td>0.049334</td>\n",
       "      <td>0.049379</td>\n",
       "      <td>0.049408</td>\n",
       "      <td>0.049452</td>\n",
       "      <td>0.049526</td>\n",
       "      <td>0.049624</td>\n",
       "      <td>0.049736</td>\n",
       "      <td>...</td>\n",
       "      <td>1.230021</td>\n",
       "      <td>1.237661</td>\n",
       "      <td>1.244178</td>\n",
       "      <td>1.249474</td>\n",
       "      <td>1.253660</td>\n",
       "      <td>1.256330</td>\n",
       "      <td>1.257720</td>\n",
       "      <td>1.258104</td>\n",
       "      <td>1.257498</td>\n",
       "      <td>1.255944</td>\n",
       "    </tr>\n",
       "    <tr>\n",
       "      <th>...</th>\n",
       "      <td>...</td>\n",
       "      <td>...</td>\n",
       "      <td>...</td>\n",
       "      <td>...</td>\n",
       "      <td>...</td>\n",
       "      <td>...</td>\n",
       "      <td>...</td>\n",
       "      <td>...</td>\n",
       "      <td>...</td>\n",
       "      <td>...</td>\n",
       "      <td>...</td>\n",
       "      <td>...</td>\n",
       "      <td>...</td>\n",
       "      <td>...</td>\n",
       "      <td>...</td>\n",
       "      <td>...</td>\n",
       "      <td>...</td>\n",
       "      <td>...</td>\n",
       "      <td>...</td>\n",
       "      <td>...</td>\n",
       "      <td>...</td>\n",
       "    </tr>\n",
       "    <tr>\n",
       "      <th>473</th>\n",
       "      <td>0.052872</td>\n",
       "      <td>0.052989</td>\n",
       "      <td>0.053077</td>\n",
       "      <td>0.053124</td>\n",
       "      <td>0.053138</td>\n",
       "      <td>0.053141</td>\n",
       "      <td>0.053160</td>\n",
       "      <td>0.053207</td>\n",
       "      <td>0.053275</td>\n",
       "      <td>0.053372</td>\n",
       "      <td>...</td>\n",
       "      <td>1.218939</td>\n",
       "      <td>1.226327</td>\n",
       "      <td>1.232670</td>\n",
       "      <td>1.237736</td>\n",
       "      <td>1.241450</td>\n",
       "      <td>1.243997</td>\n",
       "      <td>1.245384</td>\n",
       "      <td>1.245688</td>\n",
       "      <td>1.245300</td>\n",
       "      <td>1.243890</td>\n",
       "    </tr>\n",
       "    <tr>\n",
       "      <th>474</th>\n",
       "      <td>0.053472</td>\n",
       "      <td>0.053585</td>\n",
       "      <td>0.053669</td>\n",
       "      <td>0.053716</td>\n",
       "      <td>0.053735</td>\n",
       "      <td>0.053744</td>\n",
       "      <td>0.053766</td>\n",
       "      <td>0.053815</td>\n",
       "      <td>0.053888</td>\n",
       "      <td>0.053987</td>\n",
       "      <td>...</td>\n",
       "      <td>1.218009</td>\n",
       "      <td>1.225289</td>\n",
       "      <td>1.231519</td>\n",
       "      <td>1.236439</td>\n",
       "      <td>1.240126</td>\n",
       "      <td>1.242579</td>\n",
       "      <td>1.243923</td>\n",
       "      <td>1.244446</td>\n",
       "      <td>1.243841</td>\n",
       "      <td>1.242360</td>\n",
       "    </tr>\n",
       "    <tr>\n",
       "      <th>475</th>\n",
       "      <td>0.054380</td>\n",
       "      <td>0.054500</td>\n",
       "      <td>0.054584</td>\n",
       "      <td>0.054630</td>\n",
       "      <td>0.054650</td>\n",
       "      <td>0.054660</td>\n",
       "      <td>0.054680</td>\n",
       "      <td>0.054728</td>\n",
       "      <td>0.054802</td>\n",
       "      <td>0.054905</td>\n",
       "      <td>...</td>\n",
       "      <td>1.220192</td>\n",
       "      <td>1.227429</td>\n",
       "      <td>1.233494</td>\n",
       "      <td>1.238238</td>\n",
       "      <td>1.241769</td>\n",
       "      <td>1.244228</td>\n",
       "      <td>1.245722</td>\n",
       "      <td>1.246142</td>\n",
       "      <td>1.245564</td>\n",
       "      <td>1.244087</td>\n",
       "    </tr>\n",
       "    <tr>\n",
       "      <th>476</th>\n",
       "      <td>0.051853</td>\n",
       "      <td>0.051967</td>\n",
       "      <td>0.052051</td>\n",
       "      <td>0.052099</td>\n",
       "      <td>0.052118</td>\n",
       "      <td>0.052126</td>\n",
       "      <td>0.052148</td>\n",
       "      <td>0.052196</td>\n",
       "      <td>0.052266</td>\n",
       "      <td>0.052364</td>\n",
       "      <td>...</td>\n",
       "      <td>1.216178</td>\n",
       "      <td>1.223287</td>\n",
       "      <td>1.229359</td>\n",
       "      <td>1.234314</td>\n",
       "      <td>1.237890</td>\n",
       "      <td>1.240214</td>\n",
       "      <td>1.241604</td>\n",
       "      <td>1.241979</td>\n",
       "      <td>1.241442</td>\n",
       "      <td>1.239931</td>\n",
       "    </tr>\n",
       "    <tr>\n",
       "      <th>477</th>\n",
       "      <td>0.051704</td>\n",
       "      <td>0.051819</td>\n",
       "      <td>0.051908</td>\n",
       "      <td>0.051959</td>\n",
       "      <td>0.051978</td>\n",
       "      <td>0.051988</td>\n",
       "      <td>0.052011</td>\n",
       "      <td>0.052058</td>\n",
       "      <td>0.052126</td>\n",
       "      <td>0.052225</td>\n",
       "      <td>...</td>\n",
       "      <td>1.229602</td>\n",
       "      <td>1.236813</td>\n",
       "      <td>1.242849</td>\n",
       "      <td>1.247558</td>\n",
       "      <td>1.251019</td>\n",
       "      <td>1.253311</td>\n",
       "      <td>1.254358</td>\n",
       "      <td>1.254426</td>\n",
       "      <td>1.253611</td>\n",
       "      <td>1.251954</td>\n",
       "    </tr>\n",
       "  </tbody>\n",
       "</table>\n",
       "<p>478 rows × 700 columns</p>\n",
       "</div>"
      ],
      "text/plain": [
       "         1100      1102      1104      1106      1108      1110      1112  \\\n",
       "0    0.045821  0.045919  0.046006  0.046081  0.046127  0.046154  0.046193   \n",
       "1    0.046689  0.046794  0.046888  0.046968  0.047018  0.047048  0.047092   \n",
       "2    0.046001  0.046102  0.046191  0.046267  0.046318  0.046352  0.046395   \n",
       "3    0.048385  0.048487  0.048575  0.048646  0.048689  0.048718  0.048762   \n",
       "4    0.049068  0.049169  0.049260  0.049334  0.049379  0.049408  0.049452   \n",
       "..        ...       ...       ...       ...       ...       ...       ...   \n",
       "473  0.052872  0.052989  0.053077  0.053124  0.053138  0.053141  0.053160   \n",
       "474  0.053472  0.053585  0.053669  0.053716  0.053735  0.053744  0.053766   \n",
       "475  0.054380  0.054500  0.054584  0.054630  0.054650  0.054660  0.054680   \n",
       "476  0.051853  0.051967  0.052051  0.052099  0.052118  0.052126  0.052148   \n",
       "477  0.051704  0.051819  0.051908  0.051959  0.051978  0.051988  0.052011   \n",
       "\n",
       "         1114      1116      1118  ...      2480      2482      2484  \\\n",
       "0    0.046263  0.046355  0.046462  ...  1.227317  1.234959  1.241331   \n",
       "1    0.047168  0.047267  0.047380  ...  1.226857  1.234513  1.241048   \n",
       "2    0.046464  0.046560  0.046673  ...  1.226350  1.234073  1.240602   \n",
       "3    0.048838  0.048936  0.049045  ...  1.231740  1.239489  1.245921   \n",
       "4    0.049526  0.049624  0.049736  ...  1.230021  1.237661  1.244178   \n",
       "..        ...       ...       ...  ...       ...       ...       ...   \n",
       "473  0.053207  0.053275  0.053372  ...  1.218939  1.226327  1.232670   \n",
       "474  0.053815  0.053888  0.053987  ...  1.218009  1.225289  1.231519   \n",
       "475  0.054728  0.054802  0.054905  ...  1.220192  1.227429  1.233494   \n",
       "476  0.052196  0.052266  0.052364  ...  1.216178  1.223287  1.229359   \n",
       "477  0.052058  0.052126  0.052225  ...  1.229602  1.236813  1.242849   \n",
       "\n",
       "         2486      2488      2490      2492      2494      2496      2498  \n",
       "0    1.246504  1.250619  1.253306  1.254781  1.255183  1.254414  1.252608  \n",
       "1    1.246333  1.250335  1.253182  1.254740  1.255117  1.254655  1.253190  \n",
       "2    1.245771  1.249675  1.252433  1.253965  1.254278  1.253536  1.251884  \n",
       "3    1.251192  1.255113  1.257610  1.259046  1.259366  1.258606  1.257072  \n",
       "4    1.249474  1.253660  1.256330  1.257720  1.258104  1.257498  1.255944  \n",
       "..        ...       ...       ...       ...       ...       ...       ...  \n",
       "473  1.237736  1.241450  1.243997  1.245384  1.245688  1.245300  1.243890  \n",
       "474  1.236439  1.240126  1.242579  1.243923  1.244446  1.243841  1.242360  \n",
       "475  1.238238  1.241769  1.244228  1.245722  1.246142  1.245564  1.244087  \n",
       "476  1.234314  1.237890  1.240214  1.241604  1.241979  1.241442  1.239931  \n",
       "477  1.247558  1.251019  1.253311  1.254358  1.254426  1.253611  1.251954  \n",
       "\n",
       "[478 rows x 700 columns]"
      ]
     },
     "execution_count": 7,
     "metadata": {},
     "output_type": "execute_result"
    }
   ],
   "source": [
    "# Preparing data in row/column format\n",
    "# result.keys()  # To know the keys\n",
    "# honey = result[\"honey\"]\n",
    "# label = result[\"label\"]\n",
    "# label_full = result[\"label.full\"]\n",
    "# Random_seed= result[\".Random.seed\"]\n",
    "\n",
    "# honey_label=pd.concat([honey, label], axis=1)\n",
    "\n",
    "# honeydata is Dataframe stores complete data in row/column format\n",
    "\n",
    "# honeydata=pd.concat([honey_label, label_full], axis=1)\n",
    "\n",
    "\n",
    "# honey_no_labels is Dataframe stores data without labels.\n",
    "label_full = honeydata[\"Honey Label\"].copy()\n",
    "honey_no_labels=honeydata.iloc[ :,:700].copy()\n",
    "honey_no_labels\n",
    "# honeydata.to_csv('honeydata.csv')\n"
   ]
  },
  {
   "cell_type": "code",
   "execution_count": 8,
   "id": "8a38a7bc",
   "metadata": {
    "colab": {
     "base_uri": "https://localhost:8080/"
    },
    "id": "8a38a7bc",
    "outputId": "c8ca6a48-6d4a-4fd1-bc6c-c1d408e529b3"
   },
   "outputs": [
    {
     "data": {
      "text/plain": [
       "(478, 701)"
      ]
     },
     "execution_count": 8,
     "metadata": {},
     "output_type": "execute_result"
    }
   ],
   "source": [
    "honeydata.shape"
   ]
  },
  {
   "cell_type": "code",
   "execution_count": 9,
   "id": "74162a6a",
   "metadata": {
    "colab": {
     "base_uri": "https://localhost:8080/",
     "height": 141
    },
    "id": "74162a6a",
    "outputId": "5078833c-218a-436f-b154-84ecd3957079"
   },
   "outputs": [
    {
     "data": {
      "text/html": [
       "<div>\n",
       "<style scoped>\n",
       "    .dataframe tbody tr th:only-of-type {\n",
       "        vertical-align: middle;\n",
       "    }\n",
       "\n",
       "    .dataframe tbody tr th {\n",
       "        vertical-align: top;\n",
       "    }\n",
       "\n",
       "    .dataframe thead th {\n",
       "        text-align: right;\n",
       "    }\n",
       "</style>\n",
       "<table border=\"1\" class=\"dataframe\">\n",
       "  <thead>\n",
       "    <tr style=\"text-align: right;\">\n",
       "      <th></th>\n",
       "      <th>1100</th>\n",
       "      <th>1102</th>\n",
       "      <th>1104</th>\n",
       "      <th>1106</th>\n",
       "      <th>1108</th>\n",
       "      <th>1110</th>\n",
       "      <th>1112</th>\n",
       "      <th>1114</th>\n",
       "      <th>1116</th>\n",
       "      <th>1118</th>\n",
       "      <th>...</th>\n",
       "      <th>2482</th>\n",
       "      <th>2484</th>\n",
       "      <th>2486</th>\n",
       "      <th>2488</th>\n",
       "      <th>2490</th>\n",
       "      <th>2492</th>\n",
       "      <th>2494</th>\n",
       "      <th>2496</th>\n",
       "      <th>2498</th>\n",
       "      <th>Honey Label</th>\n",
       "    </tr>\n",
       "  </thead>\n",
       "  <tbody>\n",
       "    <tr>\n",
       "      <th>0</th>\n",
       "      <td>0.045821</td>\n",
       "      <td>0.045919</td>\n",
       "      <td>0.046006</td>\n",
       "      <td>0.046081</td>\n",
       "      <td>0.046127</td>\n",
       "      <td>0.046154</td>\n",
       "      <td>0.046193</td>\n",
       "      <td>0.046263</td>\n",
       "      <td>0.046355</td>\n",
       "      <td>0.046462</td>\n",
       "      <td>...</td>\n",
       "      <td>1.234959</td>\n",
       "      <td>1.241331</td>\n",
       "      <td>1.246504</td>\n",
       "      <td>1.250619</td>\n",
       "      <td>1.253306</td>\n",
       "      <td>1.254781</td>\n",
       "      <td>1.255183</td>\n",
       "      <td>1.254414</td>\n",
       "      <td>1.252608</td>\n",
       "      <td>PURE</td>\n",
       "    </tr>\n",
       "    <tr>\n",
       "      <th>1</th>\n",
       "      <td>0.046689</td>\n",
       "      <td>0.046794</td>\n",
       "      <td>0.046888</td>\n",
       "      <td>0.046968</td>\n",
       "      <td>0.047018</td>\n",
       "      <td>0.047048</td>\n",
       "      <td>0.047092</td>\n",
       "      <td>0.047168</td>\n",
       "      <td>0.047267</td>\n",
       "      <td>0.047380</td>\n",
       "      <td>...</td>\n",
       "      <td>1.234513</td>\n",
       "      <td>1.241048</td>\n",
       "      <td>1.246333</td>\n",
       "      <td>1.250335</td>\n",
       "      <td>1.253182</td>\n",
       "      <td>1.254740</td>\n",
       "      <td>1.255117</td>\n",
       "      <td>1.254655</td>\n",
       "      <td>1.253190</td>\n",
       "      <td>PURE</td>\n",
       "    </tr>\n",
       "  </tbody>\n",
       "</table>\n",
       "<p>2 rows × 701 columns</p>\n",
       "</div>"
      ],
      "text/plain": [
       "       1100      1102      1104      1106      1108      1110      1112  \\\n",
       "0  0.045821  0.045919  0.046006  0.046081  0.046127  0.046154  0.046193   \n",
       "1  0.046689  0.046794  0.046888  0.046968  0.047018  0.047048  0.047092   \n",
       "\n",
       "       1114      1116      1118  ...      2482      2484      2486      2488  \\\n",
       "0  0.046263  0.046355  0.046462  ...  1.234959  1.241331  1.246504  1.250619   \n",
       "1  0.047168  0.047267  0.047380  ...  1.234513  1.241048  1.246333  1.250335   \n",
       "\n",
       "       2490      2492      2494      2496      2498  Honey Label  \n",
       "0  1.253306  1.254781  1.255183  1.254414  1.252608         PURE  \n",
       "1  1.253182  1.254740  1.255117  1.254655  1.253190         PURE  \n",
       "\n",
       "[2 rows x 701 columns]"
      ]
     },
     "execution_count": 9,
     "metadata": {},
     "output_type": "execute_result"
    }
   ],
   "source": [
    "honeydata.head(2)"
   ]
  },
  {
   "cell_type": "code",
   "execution_count": 10,
   "id": "ca77b0df",
   "metadata": {
    "colab": {
     "base_uri": "https://localhost:8080/",
     "height": 206
    },
    "id": "ca77b0df",
    "outputId": "3d181536-be8a-4c2b-94ef-17973709cf25"
   },
   "outputs": [
    {
     "data": {
      "text/html": [
       "<div>\n",
       "<style scoped>\n",
       "    .dataframe tbody tr th:only-of-type {\n",
       "        vertical-align: middle;\n",
       "    }\n",
       "\n",
       "    .dataframe tbody tr th {\n",
       "        vertical-align: top;\n",
       "    }\n",
       "\n",
       "    .dataframe thead th {\n",
       "        text-align: right;\n",
       "    }\n",
       "</style>\n",
       "<table border=\"1\" class=\"dataframe\">\n",
       "  <thead>\n",
       "    <tr style=\"text-align: right;\">\n",
       "      <th></th>\n",
       "      <th>2490</th>\n",
       "      <th>2492</th>\n",
       "      <th>2494</th>\n",
       "      <th>2496</th>\n",
       "      <th>2498</th>\n",
       "      <th>Honey Label</th>\n",
       "    </tr>\n",
       "  </thead>\n",
       "  <tbody>\n",
       "    <tr>\n",
       "      <th>0</th>\n",
       "      <td>1.253306</td>\n",
       "      <td>1.254781</td>\n",
       "      <td>1.255183</td>\n",
       "      <td>1.254414</td>\n",
       "      <td>1.252608</td>\n",
       "      <td>PURE</td>\n",
       "    </tr>\n",
       "    <tr>\n",
       "      <th>1</th>\n",
       "      <td>1.253182</td>\n",
       "      <td>1.254740</td>\n",
       "      <td>1.255117</td>\n",
       "      <td>1.254655</td>\n",
       "      <td>1.253190</td>\n",
       "      <td>PURE</td>\n",
       "    </tr>\n",
       "    <tr>\n",
       "      <th>2</th>\n",
       "      <td>1.252433</td>\n",
       "      <td>1.253965</td>\n",
       "      <td>1.254278</td>\n",
       "      <td>1.253536</td>\n",
       "      <td>1.251884</td>\n",
       "      <td>PURE</td>\n",
       "    </tr>\n",
       "    <tr>\n",
       "      <th>3</th>\n",
       "      <td>1.257610</td>\n",
       "      <td>1.259046</td>\n",
       "      <td>1.259366</td>\n",
       "      <td>1.258606</td>\n",
       "      <td>1.257072</td>\n",
       "      <td>PURE</td>\n",
       "    </tr>\n",
       "    <tr>\n",
       "      <th>4</th>\n",
       "      <td>1.256330</td>\n",
       "      <td>1.257720</td>\n",
       "      <td>1.258104</td>\n",
       "      <td>1.257498</td>\n",
       "      <td>1.255944</td>\n",
       "      <td>PURE</td>\n",
       "    </tr>\n",
       "  </tbody>\n",
       "</table>\n",
       "</div>"
      ],
      "text/plain": [
       "       2490      2492      2494      2496      2498 Honey Label\n",
       "0  1.253306  1.254781  1.255183  1.254414  1.252608        PURE\n",
       "1  1.253182  1.254740  1.255117  1.254655  1.253190        PURE\n",
       "2  1.252433  1.253965  1.254278  1.253536  1.251884        PURE\n",
       "3  1.257610  1.259046  1.259366  1.258606  1.257072        PURE\n",
       "4  1.256330  1.257720  1.258104  1.257498  1.255944        PURE"
      ]
     },
     "execution_count": 10,
     "metadata": {},
     "output_type": "execute_result"
    }
   ],
   "source": [
    "# Shows last few columns including labels\n",
    "honeydata[honeydata['Honey Label']=='PURE'].iloc[:,695:].head()\n",
    "\n"
   ]
  },
  {
   "cell_type": "markdown",
   "id": "d725de22",
   "metadata": {},
   "source": [
    "### Exploratory Data Analysis including Visualization \n",
    "https://www.baeldung.com/cs/correlation-classification-algorithms\n"
   ]
  },
  {
   "cell_type": "code",
   "execution_count": 11,
   "id": "724c52d7",
   "metadata": {
    "colab": {
     "base_uri": "https://localhost:8080/"
    },
    "id": "50416679",
    "outputId": "0ac19427-029a-46fc-cf46-201921e832e3"
   },
   "outputs": [],
   "source": [
    "# Exploring data by shape and size as dataset is high-dimensional.\n",
    "# Please refer to the below link to know why dataset is high-dimensional and the challenges with high-dimensional dataset.\n",
    "\n",
    "# https://carpentries-incubator.github.io/high-dimensional-stats-r/01-introduction-to-high-dimensional-data/index.html\n",
    "\n",
    "# The inference from the above paragraph is to use suitable visualization method to \n",
    "# understand the relationship between the features and use the appropriate \n",
    "# pre-rocessing techniques before passing to Machine Learning classification Algorithms\n",
    "\n"
   ]
  },
  {
   "cell_type": "code",
   "execution_count": 12,
   "id": "136405b4",
   "metadata": {},
   "outputs": [],
   "source": [
    "# Visualization methods:\n",
    "\n",
    "# 1- Normal Distribution plot\n",
    "# We need to check if data has any outliers, skewness and if there is any need of data transformation.\n",
    "# After visualization it was found that data is not ideally normally distributed as there exists some skewness in the data.\n",
    "\n",
    "# This can be handled by using preprocessing techniques called as feature selection methods such as PCA, TSNE\n",
    "\n",
    "# 2- Categorical Plot\n",
    "\n",
    "# Using the catplot we can visualize the relationship between different categories of honey sample data.\n",
    "# We can clearly see the difference between data distribution between pure sample and adulteratated sample.\n",
    "\n",
    "# 3- Pairs Plot\n",
    "\n",
    "# Pairs plot shows relationship between each pair of the columns i.e. if there are 4 columns there will be 2^4 plots.\n",
    "# As there are about 700 columns, hence we will be using 4 columns to visualize using pairplot.\n",
    "\n",
    "# 4- Spectra Plot\n",
    "\n",
    "# We can easily visualize that lines related to each category of honey samples are not saperated clearly. \n",
    "# There is evidence of noice in the dataset which can be handled through the feature selection echniques.\n",
    "\n"
   ]
  },
  {
   "cell_type": "code",
   "execution_count": 13,
   "id": "80e28b02",
   "metadata": {},
   "outputs": [
    {
     "data": {
      "text/plain": [
       "(478, 700)"
      ]
     },
     "execution_count": 13,
     "metadata": {},
     "output_type": "execute_result"
    }
   ],
   "source": [
    "honey_no_labels.shape"
   ]
  },
  {
   "cell_type": "code",
   "execution_count": 14,
   "id": "863236c2",
   "metadata": {
    "colab": {
     "base_uri": "https://localhost:8080/",
     "height": 141
    },
    "id": "863236c2",
    "outputId": "0244e3e1-5931-4f16-8170-7c4b7c9a483d"
   },
   "outputs": [
    {
     "data": {
      "text/html": [
       "<div>\n",
       "<style scoped>\n",
       "    .dataframe tbody tr th:only-of-type {\n",
       "        vertical-align: middle;\n",
       "    }\n",
       "\n",
       "    .dataframe tbody tr th {\n",
       "        vertical-align: top;\n",
       "    }\n",
       "\n",
       "    .dataframe thead th {\n",
       "        text-align: right;\n",
       "    }\n",
       "</style>\n",
       "<table border=\"1\" class=\"dataframe\">\n",
       "  <thead>\n",
       "    <tr style=\"text-align: right;\">\n",
       "      <th></th>\n",
       "      <th>1100</th>\n",
       "      <th>1102</th>\n",
       "      <th>1104</th>\n",
       "      <th>1106</th>\n",
       "      <th>1108</th>\n",
       "      <th>1110</th>\n",
       "      <th>1112</th>\n",
       "      <th>1114</th>\n",
       "      <th>1116</th>\n",
       "      <th>1118</th>\n",
       "      <th>...</th>\n",
       "      <th>2480</th>\n",
       "      <th>2482</th>\n",
       "      <th>2484</th>\n",
       "      <th>2486</th>\n",
       "      <th>2488</th>\n",
       "      <th>2490</th>\n",
       "      <th>2492</th>\n",
       "      <th>2494</th>\n",
       "      <th>2496</th>\n",
       "      <th>2498</th>\n",
       "    </tr>\n",
       "  </thead>\n",
       "  <tbody>\n",
       "    <tr>\n",
       "      <th>0</th>\n",
       "      <td>0.045821</td>\n",
       "      <td>0.045919</td>\n",
       "      <td>0.046006</td>\n",
       "      <td>0.046081</td>\n",
       "      <td>0.046127</td>\n",
       "      <td>0.046154</td>\n",
       "      <td>0.046193</td>\n",
       "      <td>0.046263</td>\n",
       "      <td>0.046355</td>\n",
       "      <td>0.046462</td>\n",
       "      <td>...</td>\n",
       "      <td>1.227317</td>\n",
       "      <td>1.234959</td>\n",
       "      <td>1.241331</td>\n",
       "      <td>1.246504</td>\n",
       "      <td>1.250619</td>\n",
       "      <td>1.253306</td>\n",
       "      <td>1.254781</td>\n",
       "      <td>1.255183</td>\n",
       "      <td>1.254414</td>\n",
       "      <td>1.252608</td>\n",
       "    </tr>\n",
       "    <tr>\n",
       "      <th>1</th>\n",
       "      <td>0.046689</td>\n",
       "      <td>0.046794</td>\n",
       "      <td>0.046888</td>\n",
       "      <td>0.046968</td>\n",
       "      <td>0.047018</td>\n",
       "      <td>0.047048</td>\n",
       "      <td>0.047092</td>\n",
       "      <td>0.047168</td>\n",
       "      <td>0.047267</td>\n",
       "      <td>0.047380</td>\n",
       "      <td>...</td>\n",
       "      <td>1.226857</td>\n",
       "      <td>1.234513</td>\n",
       "      <td>1.241048</td>\n",
       "      <td>1.246333</td>\n",
       "      <td>1.250335</td>\n",
       "      <td>1.253182</td>\n",
       "      <td>1.254740</td>\n",
       "      <td>1.255117</td>\n",
       "      <td>1.254655</td>\n",
       "      <td>1.253190</td>\n",
       "    </tr>\n",
       "  </tbody>\n",
       "</table>\n",
       "<p>2 rows × 700 columns</p>\n",
       "</div>"
      ],
      "text/plain": [
       "       1100      1102      1104      1106      1108      1110      1112  \\\n",
       "0  0.045821  0.045919  0.046006  0.046081  0.046127  0.046154  0.046193   \n",
       "1  0.046689  0.046794  0.046888  0.046968  0.047018  0.047048  0.047092   \n",
       "\n",
       "       1114      1116      1118  ...      2480      2482      2484      2486  \\\n",
       "0  0.046263  0.046355  0.046462  ...  1.227317  1.234959  1.241331  1.246504   \n",
       "1  0.047168  0.047267  0.047380  ...  1.226857  1.234513  1.241048  1.246333   \n",
       "\n",
       "       2488      2490      2492      2494      2496      2498  \n",
       "0  1.250619  1.253306  1.254781  1.255183  1.254414  1.252608  \n",
       "1  1.250335  1.253182  1.254740  1.255117  1.254655  1.253190  \n",
       "\n",
       "[2 rows x 700 columns]"
      ]
     },
     "execution_count": 14,
     "metadata": {},
     "output_type": "execute_result"
    }
   ],
   "source": [
    "honey_no_labels.head(2)"
   ]
  },
  {
   "cell_type": "code",
   "execution_count": 15,
   "id": "2222a036",
   "metadata": {
    "colab": {
     "base_uri": "https://localhost:8080/"
    },
    "id": "2222a036",
    "outputId": "fcaf3b6b-2701-46b2-813d-ea3e62194172"
   },
   "outputs": [
    {
     "data": {
      "text/plain": [
       "0      PURE\n",
       "1      PURE\n",
       "2      PURE\n",
       "3      PURE\n",
       "4      PURE\n",
       "       ... \n",
       "473    HFCS\n",
       "474    HFCS\n",
       "475    HFCS\n",
       "476    HFCS\n",
       "477    HFCS\n",
       "Name: Honey Label, Length: 478, dtype: object"
      ]
     },
     "execution_count": 15,
     "metadata": {},
     "output_type": "execute_result"
    }
   ],
   "source": [
    "nrows=honey_no_labels.shape[0] # no of rows\n",
    "ncols=honey_no_labels.shape[1]# no of cols\n",
    "labels_only=honeydata['Honey Label'].copy() # Only Labels\n",
    "\n",
    "labels_only"
   ]
  },
  {
   "cell_type": "code",
   "execution_count": 16,
   "id": "bcf12a8a",
   "metadata": {},
   "outputs": [
    {
     "data": {
      "text/plain": [
       "(478, 701)"
      ]
     },
     "execution_count": 16,
     "metadata": {},
     "output_type": "execute_result"
    }
   ],
   "source": [
    "honeydata.shape"
   ]
  },
  {
   "cell_type": "code",
   "execution_count": 17,
   "id": "3e4a7b62",
   "metadata": {},
   "outputs": [
    {
     "data": {
      "text/html": [
       "<div>\n",
       "<style scoped>\n",
       "    .dataframe tbody tr th:only-of-type {\n",
       "        vertical-align: middle;\n",
       "    }\n",
       "\n",
       "    .dataframe tbody tr th {\n",
       "        vertical-align: top;\n",
       "    }\n",
       "\n",
       "    .dataframe thead th {\n",
       "        text-align: right;\n",
       "    }\n",
       "</style>\n",
       "<table border=\"1\" class=\"dataframe\">\n",
       "  <thead>\n",
       "    <tr style=\"text-align: right;\">\n",
       "      <th></th>\n",
       "      <th>1100</th>\n",
       "      <th>1102</th>\n",
       "      <th>1104</th>\n",
       "      <th>1106</th>\n",
       "      <th>1108</th>\n",
       "      <th>1110</th>\n",
       "      <th>1112</th>\n",
       "      <th>1114</th>\n",
       "      <th>1116</th>\n",
       "      <th>1118</th>\n",
       "      <th>...</th>\n",
       "      <th>2480</th>\n",
       "      <th>2482</th>\n",
       "      <th>2484</th>\n",
       "      <th>2486</th>\n",
       "      <th>2488</th>\n",
       "      <th>2490</th>\n",
       "      <th>2492</th>\n",
       "      <th>2494</th>\n",
       "      <th>2496</th>\n",
       "      <th>2498</th>\n",
       "    </tr>\n",
       "  </thead>\n",
       "  <tbody>\n",
       "    <tr>\n",
       "      <th>count</th>\n",
       "      <td>478.000000</td>\n",
       "      <td>478.000000</td>\n",
       "      <td>478.000000</td>\n",
       "      <td>478.000000</td>\n",
       "      <td>478.000000</td>\n",
       "      <td>478.000000</td>\n",
       "      <td>478.000000</td>\n",
       "      <td>478.000000</td>\n",
       "      <td>478.000000</td>\n",
       "      <td>478.000000</td>\n",
       "      <td>...</td>\n",
       "      <td>478.000000</td>\n",
       "      <td>478.000000</td>\n",
       "      <td>478.000000</td>\n",
       "      <td>478.000000</td>\n",
       "      <td>478.000000</td>\n",
       "      <td>478.000000</td>\n",
       "      <td>478.000000</td>\n",
       "      <td>478.000000</td>\n",
       "      <td>478.000000</td>\n",
       "      <td>478.000000</td>\n",
       "    </tr>\n",
       "    <tr>\n",
       "      <th>mean</th>\n",
       "      <td>0.047177</td>\n",
       "      <td>0.047285</td>\n",
       "      <td>0.047379</td>\n",
       "      <td>0.047447</td>\n",
       "      <td>0.047488</td>\n",
       "      <td>0.047521</td>\n",
       "      <td>0.047569</td>\n",
       "      <td>0.047640</td>\n",
       "      <td>0.047731</td>\n",
       "      <td>0.047842</td>\n",
       "      <td>...</td>\n",
       "      <td>1.228566</td>\n",
       "      <td>1.236156</td>\n",
       "      <td>1.242557</td>\n",
       "      <td>1.247765</td>\n",
       "      <td>1.251723</td>\n",
       "      <td>1.254429</td>\n",
       "      <td>1.255950</td>\n",
       "      <td>1.256379</td>\n",
       "      <td>1.255828</td>\n",
       "      <td>1.254322</td>\n",
       "    </tr>\n",
       "    <tr>\n",
       "      <th>std</th>\n",
       "      <td>0.004727</td>\n",
       "      <td>0.004729</td>\n",
       "      <td>0.004725</td>\n",
       "      <td>0.004714</td>\n",
       "      <td>0.004698</td>\n",
       "      <td>0.004682</td>\n",
       "      <td>0.004669</td>\n",
       "      <td>0.004658</td>\n",
       "      <td>0.004649</td>\n",
       "      <td>0.004641</td>\n",
       "      <td>...</td>\n",
       "      <td>0.009787</td>\n",
       "      <td>0.009861</td>\n",
       "      <td>0.009920</td>\n",
       "      <td>0.009970</td>\n",
       "      <td>0.010028</td>\n",
       "      <td>0.010071</td>\n",
       "      <td>0.010124</td>\n",
       "      <td>0.010183</td>\n",
       "      <td>0.010244</td>\n",
       "      <td>0.010317</td>\n",
       "    </tr>\n",
       "    <tr>\n",
       "      <th>min</th>\n",
       "      <td>0.037472</td>\n",
       "      <td>0.037576</td>\n",
       "      <td>0.037671</td>\n",
       "      <td>0.037758</td>\n",
       "      <td>0.037824</td>\n",
       "      <td>0.037871</td>\n",
       "      <td>0.037924</td>\n",
       "      <td>0.038003</td>\n",
       "      <td>0.038105</td>\n",
       "      <td>0.038227</td>\n",
       "      <td>...</td>\n",
       "      <td>1.194760</td>\n",
       "      <td>1.202070</td>\n",
       "      <td>1.208260</td>\n",
       "      <td>1.213220</td>\n",
       "      <td>1.217011</td>\n",
       "      <td>1.219747</td>\n",
       "      <td>1.221459</td>\n",
       "      <td>1.222133</td>\n",
       "      <td>1.221913</td>\n",
       "      <td>1.220903</td>\n",
       "    </tr>\n",
       "    <tr>\n",
       "      <th>25%</th>\n",
       "      <td>0.044349</td>\n",
       "      <td>0.044460</td>\n",
       "      <td>0.044555</td>\n",
       "      <td>0.044632</td>\n",
       "      <td>0.044689</td>\n",
       "      <td>0.044738</td>\n",
       "      <td>0.044790</td>\n",
       "      <td>0.044859</td>\n",
       "      <td>0.044946</td>\n",
       "      <td>0.045057</td>\n",
       "      <td>...</td>\n",
       "      <td>1.221540</td>\n",
       "      <td>1.229041</td>\n",
       "      <td>1.235474</td>\n",
       "      <td>1.240712</td>\n",
       "      <td>1.244695</td>\n",
       "      <td>1.247457</td>\n",
       "      <td>1.248937</td>\n",
       "      <td>1.249304</td>\n",
       "      <td>1.248539</td>\n",
       "      <td>1.246818</td>\n",
       "    </tr>\n",
       "    <tr>\n",
       "      <th>50%</th>\n",
       "      <td>0.046856</td>\n",
       "      <td>0.046961</td>\n",
       "      <td>0.047056</td>\n",
       "      <td>0.047126</td>\n",
       "      <td>0.047162</td>\n",
       "      <td>0.047188</td>\n",
       "      <td>0.047237</td>\n",
       "      <td>0.047315</td>\n",
       "      <td>0.047419</td>\n",
       "      <td>0.047526</td>\n",
       "      <td>...</td>\n",
       "      <td>1.226940</td>\n",
       "      <td>1.234653</td>\n",
       "      <td>1.241133</td>\n",
       "      <td>1.246372</td>\n",
       "      <td>1.250326</td>\n",
       "      <td>1.252999</td>\n",
       "      <td>1.254392</td>\n",
       "      <td>1.254761</td>\n",
       "      <td>1.254317</td>\n",
       "      <td>1.252703</td>\n",
       "    </tr>\n",
       "    <tr>\n",
       "      <th>75%</th>\n",
       "      <td>0.049036</td>\n",
       "      <td>0.049145</td>\n",
       "      <td>0.049243</td>\n",
       "      <td>0.049314</td>\n",
       "      <td>0.049357</td>\n",
       "      <td>0.049394</td>\n",
       "      <td>0.049444</td>\n",
       "      <td>0.049518</td>\n",
       "      <td>0.049611</td>\n",
       "      <td>0.049713</td>\n",
       "      <td>...</td>\n",
       "      <td>1.233279</td>\n",
       "      <td>1.240938</td>\n",
       "      <td>1.247072</td>\n",
       "      <td>1.252442</td>\n",
       "      <td>1.256381</td>\n",
       "      <td>1.259028</td>\n",
       "      <td>1.260404</td>\n",
       "      <td>1.260945</td>\n",
       "      <td>1.260472</td>\n",
       "      <td>1.259058</td>\n",
       "    </tr>\n",
       "    <tr>\n",
       "      <th>max</th>\n",
       "      <td>0.061835</td>\n",
       "      <td>0.061938</td>\n",
       "      <td>0.062021</td>\n",
       "      <td>0.062070</td>\n",
       "      <td>0.062085</td>\n",
       "      <td>0.062081</td>\n",
       "      <td>0.062094</td>\n",
       "      <td>0.062145</td>\n",
       "      <td>0.062223</td>\n",
       "      <td>0.062323</td>\n",
       "      <td>...</td>\n",
       "      <td>1.297056</td>\n",
       "      <td>1.303791</td>\n",
       "      <td>1.309325</td>\n",
       "      <td>1.313561</td>\n",
       "      <td>1.317091</td>\n",
       "      <td>1.319402</td>\n",
       "      <td>1.320696</td>\n",
       "      <td>1.320654</td>\n",
       "      <td>1.319697</td>\n",
       "      <td>1.318006</td>\n",
       "    </tr>\n",
       "  </tbody>\n",
       "</table>\n",
       "<p>8 rows × 700 columns</p>\n",
       "</div>"
      ],
      "text/plain": [
       "             1100        1102        1104        1106        1108        1110  \\\n",
       "count  478.000000  478.000000  478.000000  478.000000  478.000000  478.000000   \n",
       "mean     0.047177    0.047285    0.047379    0.047447    0.047488    0.047521   \n",
       "std      0.004727    0.004729    0.004725    0.004714    0.004698    0.004682   \n",
       "min      0.037472    0.037576    0.037671    0.037758    0.037824    0.037871   \n",
       "25%      0.044349    0.044460    0.044555    0.044632    0.044689    0.044738   \n",
       "50%      0.046856    0.046961    0.047056    0.047126    0.047162    0.047188   \n",
       "75%      0.049036    0.049145    0.049243    0.049314    0.049357    0.049394   \n",
       "max      0.061835    0.061938    0.062021    0.062070    0.062085    0.062081   \n",
       "\n",
       "             1112        1114        1116        1118  ...        2480  \\\n",
       "count  478.000000  478.000000  478.000000  478.000000  ...  478.000000   \n",
       "mean     0.047569    0.047640    0.047731    0.047842  ...    1.228566   \n",
       "std      0.004669    0.004658    0.004649    0.004641  ...    0.009787   \n",
       "min      0.037924    0.038003    0.038105    0.038227  ...    1.194760   \n",
       "25%      0.044790    0.044859    0.044946    0.045057  ...    1.221540   \n",
       "50%      0.047237    0.047315    0.047419    0.047526  ...    1.226940   \n",
       "75%      0.049444    0.049518    0.049611    0.049713  ...    1.233279   \n",
       "max      0.062094    0.062145    0.062223    0.062323  ...    1.297056   \n",
       "\n",
       "             2482        2484        2486        2488        2490        2492  \\\n",
       "count  478.000000  478.000000  478.000000  478.000000  478.000000  478.000000   \n",
       "mean     1.236156    1.242557    1.247765    1.251723    1.254429    1.255950   \n",
       "std      0.009861    0.009920    0.009970    0.010028    0.010071    0.010124   \n",
       "min      1.202070    1.208260    1.213220    1.217011    1.219747    1.221459   \n",
       "25%      1.229041    1.235474    1.240712    1.244695    1.247457    1.248937   \n",
       "50%      1.234653    1.241133    1.246372    1.250326    1.252999    1.254392   \n",
       "75%      1.240938    1.247072    1.252442    1.256381    1.259028    1.260404   \n",
       "max      1.303791    1.309325    1.313561    1.317091    1.319402    1.320696   \n",
       "\n",
       "             2494        2496        2498  \n",
       "count  478.000000  478.000000  478.000000  \n",
       "mean     1.256379    1.255828    1.254322  \n",
       "std      0.010183    0.010244    0.010317  \n",
       "min      1.222133    1.221913    1.220903  \n",
       "25%      1.249304    1.248539    1.246818  \n",
       "50%      1.254761    1.254317    1.252703  \n",
       "75%      1.260945    1.260472    1.259058  \n",
       "max      1.320654    1.319697    1.318006  \n",
       "\n",
       "[8 rows x 700 columns]"
      ]
     },
     "execution_count": 17,
     "metadata": {},
     "output_type": "execute_result"
    }
   ],
   "source": [
    "honeydata.describe()"
   ]
  },
  {
   "cell_type": "code",
   "execution_count": 18,
   "id": "48af0c7a",
   "metadata": {},
   "outputs": [
    {
     "data": {
      "image/png": "[encoded data removed]",
      "text/plain": [
       "<Figure size 640x480 with 1 Axes>"
      ]
     },
     "metadata": {},
     "output_type": "display_data"
    }
   ],
   "source": [
    "# Visualizing the distribution of the data, it is equaly distributed as expected\n",
    "# This data is representing nearly normally distributed\n",
    "sns.histplot(honeydata.iloc[:,695:], bins=15, kde=True)                \n",
    "plt.show()"
   ]
  },
  {
   "cell_type": "code",
   "execution_count": 19,
   "id": "0b52ab06",
   "metadata": {},
   "outputs": [
    {
     "data": {
      "image/png": "[encoded data removed]",
      "text/plain": [
       "<Figure size 500x500 with 1 Axes>"
      ]
     },
     "metadata": {},
     "output_type": "display_data"
    }
   ],
   "source": [
    "# Plotted random column to see the data spread for the Honey Labels categories\n",
    "\n",
    "catplt = sns.catplot(x='Honey Label', y='1100', data=honeydata)\n",
    "# Catagorical plot of Honeydata is showing relationship between pure and adulterated honey sample."
   ]
  },
  {
   "cell_type": "code",
   "execution_count": 20,
   "id": "f1fb25fc",
   "metadata": {},
   "outputs": [
    {
     "data": {
      "image/png": "[encoded data removed]",
      "text/plain": [
       "<Figure size 500x500 with 1 Axes>"
      ]
     },
     "metadata": {},
     "output_type": "display_data"
    }
   ],
   "source": [
    "\n",
    "catplt = sns.catplot(x='Honey Label', y='1112', data=honeydata)"
   ]
  },
  {
   "cell_type": "code",
   "execution_count": 21,
   "id": "41a6791a",
   "metadata": {},
   "outputs": [
    {
     "data": {
      "text/plain": [
       "<AxesSubplot: xlabel='1100', ylabel='1122'>"
      ]
     },
     "execution_count": 21,
     "metadata": {},
     "output_type": "execute_result"
    },
    {
     "data": {
      "image/png": "[encoded data removed]",
      "text/plain": [
       "<Figure size 640x480 with 1 Axes>"
      ]
     },
     "metadata": {},
     "output_type": "display_data"
    }
   ],
   "source": [
    "# Shows that data is highly correlated to neighboring features\n",
    "# Values are sequentially growing as the column sequence\n",
    "\n",
    "sns.scatterplot(x='1100',y='1122',hue='Honey Label',data=honeydata)"
   ]
  },
  {
   "cell_type": "code",
   "execution_count": 22,
   "id": "e1929b0d",
   "metadata": {},
   "outputs": [
    {
     "data": {
      "image/png": "[encoded data removed]",
      "text/plain": [
       "<Figure size 1347.49x1250 with 30 Axes>"
      ]
     },
     "metadata": {},
     "output_type": "display_data"
    }
   ],
   "source": [
    "# Pairplot to visualize the best set of features to describe a relationship \n",
    "# between two variables or to form the most separated groups\n",
    "sns.pairplot(honeydata.iloc[:,695:],hue = 'Honey Label')\n",
    "plt.show()"
   ]
  },
  {
   "cell_type": "code",
   "execution_count": 23,
   "id": "c2305159",
   "metadata": {},
   "outputs": [
    {
     "data": {
      "text/plain": [
       "<matplotlib.legend.Legend at 0x7f9e39a3f220>"
      ]
     },
     "execution_count": 23,
     "metadata": {},
     "output_type": "execute_result"
    },
    {
     "data": {
      "image/png": "[encoded data removed]",
      "text/plain": [
       "<Figure size 640x480 with 1 Axes>"
      ]
     },
     "metadata": {},
     "output_type": "display_data"
    }
   ],
   "source": [
    "plt.plot((honey_no_labels.transpose()) )\n",
    "plt.xlabel(\"Wavelength(nm)\")\n",
    "plt.ylabel(\"Intensity\")\n",
    "plt.title(\"Honey Data\")\n",
    "plt.legend( (\"Pure\",\"FG\",\"BI\",\"HFCS\"))"
   ]
  },
  {
   "cell_type": "code",
   "execution_count": 24,
   "id": "cfc95b33",
   "metadata": {
    "colab": {
     "base_uri": "https://localhost:8080/"
    },
    "id": "cfc95b33",
    "outputId": "b2643b4d-8211-47e3-ddf6-218b1bf1a92c"
   },
   "outputs": [
    {
     "data": {
      "text/plain": [
       "array(['PURE', 'FG', 'BI', 'HFCS'], dtype=object)"
      ]
     },
     "execution_count": 24,
     "metadata": {},
     "output_type": "execute_result"
    }
   ],
   "source": [
    "# Unique labels- 4 Categories\n",
    "labels_only.unique()\n"
   ]
  },
  {
   "cell_type": "code",
   "execution_count": 25,
   "id": "8a5d0d64",
   "metadata": {},
   "outputs": [],
   "source": [
    "\n",
    "# plt.scatter(honey_no_labels.iloc[:,1], honey_no_labels.iloc[:,2],c=['Red','Green','Blue','Yellow'])\n",
    "# plt.show()\n",
    "\n"
   ]
  },
  {
   "cell_type": "markdown",
   "id": "4d1de0b9",
   "metadata": {
    "id": "4d1de0b9"
   },
   "source": [
    "## ML Model Training"
   ]
  },
  {
   "cell_type": "code",
   "execution_count": 26,
   "id": "1721e515",
   "metadata": {
    "id": "1721e515"
   },
   "outputs": [],
   "source": [
    "# Tested with 20:80 as well as 30:70 split but best accuracy could be found using 20:80, hence using only 80:20\n",
    "# X_train, X_test, y_train, y_test = train_test_split(honey_no_labels, labels_only,test_size=0.30,stratify=labels_only,random_state=1)\n",
    "\n",
    "X_train, X_test, y_train, y_test = train_test_split(honey_no_labels, labels_only,test_size=0.20,stratify=labels_only,random_state=1)\n",
    "\n",
    "X_train=X_train.reset_index(drop=True)\n",
    "y_train=y_train.reset_index(drop=True)\n",
    "X_test=X_test.reset_index(drop=True)\n",
    "y_test=y_test.reset_index(drop=True)\n",
    "\n"
   ]
  },
  {
   "cell_type": "code",
   "execution_count": 27,
   "id": "be69feb2",
   "metadata": {
    "colab": {
     "base_uri": "https://localhost:8080/"
    },
    "id": "be69feb2",
    "outputId": "30895a07-5fe1-4298-dbce-f930ed4a70a4"
   },
   "outputs": [
    {
     "data": {
      "text/plain": [
       "FG      225\n",
       "PURE    157\n",
       "BI       56\n",
       "HFCS     40\n",
       "Name: Honey Label, dtype: int64"
      ]
     },
     "execution_count": 27,
     "metadata": {},
     "output_type": "execute_result"
    }
   ],
   "source": [
    "labels_only.value_counts()"
   ]
  },
  {
   "cell_type": "code",
   "execution_count": 28,
   "id": "0077dfe6",
   "metadata": {
    "colab": {
     "base_uri": "https://localhost:8080/"
    },
    "id": "0077dfe6",
    "outputId": "837e2450-5d6c-427d-d56f-0fd5abe78c5b"
   },
   "outputs": [
    {
     "data": {
      "text/plain": [
       "FG      180\n",
       "PURE    125\n",
       "BI       45\n",
       "HFCS     32\n",
       "Name: Honey Label, dtype: int64"
      ]
     },
     "execution_count": 28,
     "metadata": {},
     "output_type": "execute_result"
    }
   ],
   "source": [
    "y_train.value_counts()"
   ]
  },
  {
   "cell_type": "code",
   "execution_count": 29,
   "id": "d6ad9016",
   "metadata": {
    "colab": {
     "base_uri": "https://localhost:8080/"
    },
    "id": "d6ad9016",
    "outputId": "18891859-8a93-478d-c6ad-e53a900d069c"
   },
   "outputs": [
    {
     "data": {
      "text/plain": [
       "array(['PURE', 'FG', 'HFCS', 'BI'], dtype=object)"
      ]
     },
     "execution_count": 29,
     "metadata": {},
     "output_type": "execute_result"
    }
   ],
   "source": [
    "y_test.unique()"
   ]
  },
  {
   "cell_type": "code",
   "execution_count": 30,
   "id": "0fd56530",
   "metadata": {
    "colab": {
     "base_uri": "https://localhost:8080/"
    },
    "id": "0fd56530",
    "outputId": "fd0c5fbb-f4b6-40d0-fe42-be17886cbc35"
   },
   "outputs": [
    {
     "data": {
      "text/plain": [
       "FG      45\n",
       "PURE    32\n",
       "BI      11\n",
       "HFCS     8\n",
       "Name: Honey Label, dtype: int64"
      ]
     },
     "execution_count": 30,
     "metadata": {},
     "output_type": "execute_result"
    }
   ],
   "source": [
    "y_test.value_counts()"
   ]
  },
  {
   "cell_type": "code",
   "execution_count": null,
   "id": "502cc400",
   "metadata": {},
   "outputs": [],
   "source": []
  },
  {
   "cell_type": "markdown",
   "id": "633b006f",
   "metadata": {
    "id": "633b006f"
   },
   "source": [
    "#### PCA (Principal Component Analyzes) \n",
    "\n",
    "The datasets have high dimensions and are highly correlated to neighboring features, with the number of features (p) exceeding the number of instances (n), p<<n. Principal Components Analysis (PCA) for pre-processing phase seems to be typical methods for dimension reduction in this data."
   ]
  },
  {
   "cell_type": "markdown",
   "id": "cbfef4a4",
   "metadata": {
    "id": "cbfef4a4"
   },
   "source": [
    "Transforming the data to it's 4 principal components"
   ]
  },
  {
   "cell_type": "code",
   "execution_count": 31,
   "id": "0S7M9yPDOGJE",
   "metadata": {
    "id": "0S7M9yPDOGJE"
   },
   "outputs": [],
   "source": [
    "\n",
    "def get_pca_df(X_train_df,X_test_df,y_train,y_test):\n",
    "# Fitting and transforming training but only transforming test dataset\n",
    "    pca=PCA(n_components=3)\n",
    "    X_train_pca=pca.fit_transform(X_train_df)\n",
    "\n",
    "# X_test_pca=pca.fit_transform(X_train_df)\n",
    "# Generating Explained Variance Ratio and singular values\n",
    "    explained_variance = pca.explained_variance_ratio_\n",
    "    singular_values = pca.singular_values_\n",
    "    X_test_pca=pca.transform(X_test_df)\n",
    "\n",
    "# Plotting explained variance plot\n",
    "\n",
    "# Create an x for each component\n",
    "    x = np.arange(1,len(explained_variance)+1)\n",
    "# Plot the results\n",
    "    plt.plot(x, explained_variance)\n",
    "\n",
    "    plt.title(\"PCA explained variance plot\")\n",
    "# Adding x and y labels\n",
    "    plt.xlabel(\"Components\")\n",
    "    plt.ylabel('Share of Variance Explained')\n",
    "#show the resuling plot\n",
    "    plt.show()\n",
    "\n",
    "    for i in range(0, 3):\n",
    "        print(f\"Component {i:>3} accounts for {explained_variance[i]*100:>2.2f}% of variance\")\n",
    "\n",
    "# Building PCA DataFrame of train Dataset\n",
    "    pca_train_df = pd.DataFrame(data = X_train_pca,\n",
    "                     columns = [\"PC1\", \n",
    "                                \"PC2\",\n",
    "                                \"PC3\"\n",
    "                                ])\n",
    "    pca_train_df=pca_train_df.reset_index(drop=True)\n",
    "    pca_train_df['Target']=y_train\n",
    "\n",
    "# Building PCA DataFrame of test Dataset\n",
    "\n",
    "    pca_test_df = pd.DataFrame(data = X_test_pca,\n",
    "                     columns = [\"PC1\", \n",
    "                                \"PC2\",\n",
    "                                \"PC3\"\n",
    "                                ])\n",
    "    pca_test_df=pca_test_df.reset_index(drop=True)\n",
    "# pca_test_df_withlabels=pca_test_df.copy()\n",
    "    return (pca_train_df,pca_test_df)\n"
   ]
  },
  {
   "cell_type": "code",
   "execution_count": 32,
   "id": "e1394fe5",
   "metadata": {},
   "outputs": [
    {
     "data": {
      "image/png": "[encoded data removed]",
      "text/plain": [
       "<Figure size 640x480 with 1 Axes>"
      ]
     },
     "metadata": {},
     "output_type": "display_data"
    },
    {
     "name": "stdout",
     "output_type": "stream",
     "text": [
      "Component   0 accounts for 70.05% of variance\n",
      "Component   1 accounts for 15.74% of variance\n",
      "Component   2 accounts for 9.64% of variance\n"
     ]
    }
   ],
   "source": [
    "pca_train_df,pca_test_df=get_pca_df(X_train,X_test,y_train,y_test)"
   ]
  },
  {
   "cell_type": "code",
   "execution_count": 33,
   "id": "9f6bc095",
   "metadata": {},
   "outputs": [
    {
     "data": {
      "text/html": [
       "<div>\n",
       "<style scoped>\n",
       "    .dataframe tbody tr th:only-of-type {\n",
       "        vertical-align: middle;\n",
       "    }\n",
       "\n",
       "    .dataframe tbody tr th {\n",
       "        vertical-align: top;\n",
       "    }\n",
       "\n",
       "    .dataframe thead th {\n",
       "        text-align: right;\n",
       "    }\n",
       "</style>\n",
       "<table border=\"1\" class=\"dataframe\">\n",
       "  <thead>\n",
       "    <tr style=\"text-align: right;\">\n",
       "      <th></th>\n",
       "      <th>1100</th>\n",
       "      <th>1102</th>\n",
       "      <th>1104</th>\n",
       "      <th>1106</th>\n",
       "      <th>1108</th>\n",
       "      <th>1110</th>\n",
       "      <th>1112</th>\n",
       "      <th>1114</th>\n",
       "      <th>1116</th>\n",
       "      <th>1118</th>\n",
       "      <th>...</th>\n",
       "      <th>2480</th>\n",
       "      <th>2482</th>\n",
       "      <th>2484</th>\n",
       "      <th>2486</th>\n",
       "      <th>2488</th>\n",
       "      <th>2490</th>\n",
       "      <th>2492</th>\n",
       "      <th>2494</th>\n",
       "      <th>2496</th>\n",
       "      <th>2498</th>\n",
       "    </tr>\n",
       "  </thead>\n",
       "  <tbody>\n",
       "    <tr>\n",
       "      <th>0</th>\n",
       "      <td>0.044366</td>\n",
       "      <td>0.044470</td>\n",
       "      <td>0.044562</td>\n",
       "      <td>0.044643</td>\n",
       "      <td>0.044700</td>\n",
       "      <td>0.044744</td>\n",
       "      <td>0.044804</td>\n",
       "      <td>0.044885</td>\n",
       "      <td>0.044981</td>\n",
       "      <td>0.045097</td>\n",
       "      <td>...</td>\n",
       "      <td>1.237596</td>\n",
       "      <td>1.245569</td>\n",
       "      <td>1.252395</td>\n",
       "      <td>1.258031</td>\n",
       "      <td>1.262390</td>\n",
       "      <td>1.265435</td>\n",
       "      <td>1.267185</td>\n",
       "      <td>1.267589</td>\n",
       "      <td>1.267275</td>\n",
       "      <td>1.266183</td>\n",
       "    </tr>\n",
       "    <tr>\n",
       "      <th>1</th>\n",
       "      <td>0.047987</td>\n",
       "      <td>0.048093</td>\n",
       "      <td>0.048191</td>\n",
       "      <td>0.048259</td>\n",
       "      <td>0.048291</td>\n",
       "      <td>0.048314</td>\n",
       "      <td>0.048360</td>\n",
       "      <td>0.048430</td>\n",
       "      <td>0.048515</td>\n",
       "      <td>0.048617</td>\n",
       "      <td>...</td>\n",
       "      <td>1.223189</td>\n",
       "      <td>1.230761</td>\n",
       "      <td>1.237164</td>\n",
       "      <td>1.242411</td>\n",
       "      <td>1.246262</td>\n",
       "      <td>1.248897</td>\n",
       "      <td>1.250472</td>\n",
       "      <td>1.250875</td>\n",
       "      <td>1.250213</td>\n",
       "      <td>1.248523</td>\n",
       "    </tr>\n",
       "    <tr>\n",
       "      <th>2</th>\n",
       "      <td>0.045446</td>\n",
       "      <td>0.045554</td>\n",
       "      <td>0.045641</td>\n",
       "      <td>0.045694</td>\n",
       "      <td>0.045721</td>\n",
       "      <td>0.045749</td>\n",
       "      <td>0.045793</td>\n",
       "      <td>0.045860</td>\n",
       "      <td>0.045950</td>\n",
       "      <td>0.046060</td>\n",
       "      <td>...</td>\n",
       "      <td>1.222279</td>\n",
       "      <td>1.230075</td>\n",
       "      <td>1.236661</td>\n",
       "      <td>1.241965</td>\n",
       "      <td>1.246212</td>\n",
       "      <td>1.249218</td>\n",
       "      <td>1.250769</td>\n",
       "      <td>1.251142</td>\n",
       "      <td>1.250628</td>\n",
       "      <td>1.249101</td>\n",
       "    </tr>\n",
       "    <tr>\n",
       "      <th>3</th>\n",
       "      <td>0.044549</td>\n",
       "      <td>0.044653</td>\n",
       "      <td>0.044745</td>\n",
       "      <td>0.044811</td>\n",
       "      <td>0.044843</td>\n",
       "      <td>0.044868</td>\n",
       "      <td>0.044915</td>\n",
       "      <td>0.044989</td>\n",
       "      <td>0.045082</td>\n",
       "      <td>0.045191</td>\n",
       "      <td>...</td>\n",
       "      <td>1.222852</td>\n",
       "      <td>1.230486</td>\n",
       "      <td>1.237088</td>\n",
       "      <td>1.242623</td>\n",
       "      <td>1.246702</td>\n",
       "      <td>1.249607</td>\n",
       "      <td>1.251244</td>\n",
       "      <td>1.251605</td>\n",
       "      <td>1.251114</td>\n",
       "      <td>1.249676</td>\n",
       "    </tr>\n",
       "    <tr>\n",
       "      <th>4</th>\n",
       "      <td>0.045946</td>\n",
       "      <td>0.046060</td>\n",
       "      <td>0.046159</td>\n",
       "      <td>0.046240</td>\n",
       "      <td>0.046304</td>\n",
       "      <td>0.046358</td>\n",
       "      <td>0.046415</td>\n",
       "      <td>0.046495</td>\n",
       "      <td>0.046600</td>\n",
       "      <td>0.046728</td>\n",
       "      <td>...</td>\n",
       "      <td>1.233603</td>\n",
       "      <td>1.241146</td>\n",
       "      <td>1.247545</td>\n",
       "      <td>1.252771</td>\n",
       "      <td>1.256633</td>\n",
       "      <td>1.259252</td>\n",
       "      <td>1.260722</td>\n",
       "      <td>1.261086</td>\n",
       "      <td>1.260522</td>\n",
       "      <td>1.259084</td>\n",
       "    </tr>\n",
       "    <tr>\n",
       "      <th>...</th>\n",
       "      <td>...</td>\n",
       "      <td>...</td>\n",
       "      <td>...</td>\n",
       "      <td>...</td>\n",
       "      <td>...</td>\n",
       "      <td>...</td>\n",
       "      <td>...</td>\n",
       "      <td>...</td>\n",
       "      <td>...</td>\n",
       "      <td>...</td>\n",
       "      <td>...</td>\n",
       "      <td>...</td>\n",
       "      <td>...</td>\n",
       "      <td>...</td>\n",
       "      <td>...</td>\n",
       "      <td>...</td>\n",
       "      <td>...</td>\n",
       "      <td>...</td>\n",
       "      <td>...</td>\n",
       "      <td>...</td>\n",
       "      <td>...</td>\n",
       "    </tr>\n",
       "    <tr>\n",
       "      <th>91</th>\n",
       "      <td>0.045732</td>\n",
       "      <td>0.045842</td>\n",
       "      <td>0.045932</td>\n",
       "      <td>0.046005</td>\n",
       "      <td>0.046064</td>\n",
       "      <td>0.046119</td>\n",
       "      <td>0.046177</td>\n",
       "      <td>0.046245</td>\n",
       "      <td>0.046335</td>\n",
       "      <td>0.046453</td>\n",
       "      <td>...</td>\n",
       "      <td>1.210808</td>\n",
       "      <td>1.218126</td>\n",
       "      <td>1.224332</td>\n",
       "      <td>1.229582</td>\n",
       "      <td>1.233640</td>\n",
       "      <td>1.236274</td>\n",
       "      <td>1.237651</td>\n",
       "      <td>1.238060</td>\n",
       "      <td>1.237627</td>\n",
       "      <td>1.236385</td>\n",
       "    </tr>\n",
       "    <tr>\n",
       "      <th>92</th>\n",
       "      <td>0.045786</td>\n",
       "      <td>0.045898</td>\n",
       "      <td>0.045989</td>\n",
       "      <td>0.046062</td>\n",
       "      <td>0.046117</td>\n",
       "      <td>0.046166</td>\n",
       "      <td>0.046222</td>\n",
       "      <td>0.046291</td>\n",
       "      <td>0.046383</td>\n",
       "      <td>0.046503</td>\n",
       "      <td>...</td>\n",
       "      <td>1.238318</td>\n",
       "      <td>1.245889</td>\n",
       "      <td>1.252111</td>\n",
       "      <td>1.257118</td>\n",
       "      <td>1.261002</td>\n",
       "      <td>1.263683</td>\n",
       "      <td>1.265183</td>\n",
       "      <td>1.265651</td>\n",
       "      <td>1.265111</td>\n",
       "      <td>1.263437</td>\n",
       "    </tr>\n",
       "    <tr>\n",
       "      <th>93</th>\n",
       "      <td>0.045817</td>\n",
       "      <td>0.045929</td>\n",
       "      <td>0.046025</td>\n",
       "      <td>0.046100</td>\n",
       "      <td>0.046157</td>\n",
       "      <td>0.046209</td>\n",
       "      <td>0.046267</td>\n",
       "      <td>0.046337</td>\n",
       "      <td>0.046427</td>\n",
       "      <td>0.046548</td>\n",
       "      <td>...</td>\n",
       "      <td>1.244560</td>\n",
       "      <td>1.251987</td>\n",
       "      <td>1.258103</td>\n",
       "      <td>1.263165</td>\n",
       "      <td>1.266993</td>\n",
       "      <td>1.269448</td>\n",
       "      <td>1.270823</td>\n",
       "      <td>1.271168</td>\n",
       "      <td>1.270511</td>\n",
       "      <td>1.268938</td>\n",
       "    </tr>\n",
       "    <tr>\n",
       "      <th>94</th>\n",
       "      <td>0.049932</td>\n",
       "      <td>0.050041</td>\n",
       "      <td>0.050137</td>\n",
       "      <td>0.050210</td>\n",
       "      <td>0.050249</td>\n",
       "      <td>0.050274</td>\n",
       "      <td>0.050320</td>\n",
       "      <td>0.050401</td>\n",
       "      <td>0.050502</td>\n",
       "      <td>0.050614</td>\n",
       "      <td>...</td>\n",
       "      <td>1.233160</td>\n",
       "      <td>1.240549</td>\n",
       "      <td>1.246775</td>\n",
       "      <td>1.251933</td>\n",
       "      <td>1.255834</td>\n",
       "      <td>1.258344</td>\n",
       "      <td>1.259713</td>\n",
       "      <td>1.260103</td>\n",
       "      <td>1.259660</td>\n",
       "      <td>1.258303</td>\n",
       "    </tr>\n",
       "    <tr>\n",
       "      <th>95</th>\n",
       "      <td>0.038537</td>\n",
       "      <td>0.038647</td>\n",
       "      <td>0.038738</td>\n",
       "      <td>0.038816</td>\n",
       "      <td>0.038878</td>\n",
       "      <td>0.038926</td>\n",
       "      <td>0.038977</td>\n",
       "      <td>0.039050</td>\n",
       "      <td>0.039153</td>\n",
       "      <td>0.039277</td>\n",
       "      <td>...</td>\n",
       "      <td>1.237024</td>\n",
       "      <td>1.245126</td>\n",
       "      <td>1.251896</td>\n",
       "      <td>1.257574</td>\n",
       "      <td>1.262041</td>\n",
       "      <td>1.265161</td>\n",
       "      <td>1.267022</td>\n",
       "      <td>1.267686</td>\n",
       "      <td>1.267473</td>\n",
       "      <td>1.266394</td>\n",
       "    </tr>\n",
       "  </tbody>\n",
       "</table>\n",
       "<p>96 rows × 700 columns</p>\n",
       "</div>"
      ],
      "text/plain": [
       "        1100      1102      1104      1106      1108      1110      1112  \\\n",
       "0   0.044366  0.044470  0.044562  0.044643  0.044700  0.044744  0.044804   \n",
       "1   0.047987  0.048093  0.048191  0.048259  0.048291  0.048314  0.048360   \n",
       "2   0.045446  0.045554  0.045641  0.045694  0.045721  0.045749  0.045793   \n",
       "3   0.044549  0.044653  0.044745  0.044811  0.044843  0.044868  0.044915   \n",
       "4   0.045946  0.046060  0.046159  0.046240  0.046304  0.046358  0.046415   \n",
       "..       ...       ...       ...       ...       ...       ...       ...   \n",
       "91  0.045732  0.045842  0.045932  0.046005  0.046064  0.046119  0.046177   \n",
       "92  0.045786  0.045898  0.045989  0.046062  0.046117  0.046166  0.046222   \n",
       "93  0.045817  0.045929  0.046025  0.046100  0.046157  0.046209  0.046267   \n",
       "94  0.049932  0.050041  0.050137  0.050210  0.050249  0.050274  0.050320   \n",
       "95  0.038537  0.038647  0.038738  0.038816  0.038878  0.038926  0.038977   \n",
       "\n",
       "        1114      1116      1118  ...      2480      2482      2484      2486  \\\n",
       "0   0.044885  0.044981  0.045097  ...  1.237596  1.245569  1.252395  1.258031   \n",
       "1   0.048430  0.048515  0.048617  ...  1.223189  1.230761  1.237164  1.242411   \n",
       "2   0.045860  0.045950  0.046060  ...  1.222279  1.230075  1.236661  1.241965   \n",
       "3   0.044989  0.045082  0.045191  ...  1.222852  1.230486  1.237088  1.242623   \n",
       "4   0.046495  0.046600  0.046728  ...  1.233603  1.241146  1.247545  1.252771   \n",
       "..       ...       ...       ...  ...       ...       ...       ...       ...   \n",
       "91  0.046245  0.046335  0.046453  ...  1.210808  1.218126  1.224332  1.229582   \n",
       "92  0.046291  0.046383  0.046503  ...  1.238318  1.245889  1.252111  1.257118   \n",
       "93  0.046337  0.046427  0.046548  ...  1.244560  1.251987  1.258103  1.263165   \n",
       "94  0.050401  0.050502  0.050614  ...  1.233160  1.240549  1.246775  1.251933   \n",
       "95  0.039050  0.039153  0.039277  ...  1.237024  1.245126  1.251896  1.257574   \n",
       "\n",
       "        2488      2490      2492      2494      2496      2498  \n",
       "0   1.262390  1.265435  1.267185  1.267589  1.267275  1.266183  \n",
       "1   1.246262  1.248897  1.250472  1.250875  1.250213  1.248523  \n",
       "2   1.246212  1.249218  1.250769  1.251142  1.250628  1.249101  \n",
       "3   1.246702  1.249607  1.251244  1.251605  1.251114  1.249676  \n",
       "4   1.256633  1.259252  1.260722  1.261086  1.260522  1.259084  \n",
       "..       ...       ...       ...       ...       ...       ...  \n",
       "91  1.233640  1.236274  1.237651  1.238060  1.237627  1.236385  \n",
       "92  1.261002  1.263683  1.265183  1.265651  1.265111  1.263437  \n",
       "93  1.266993  1.269448  1.270823  1.271168  1.270511  1.268938  \n",
       "94  1.255834  1.258344  1.259713  1.260103  1.259660  1.258303  \n",
       "95  1.262041  1.265161  1.267022  1.267686  1.267473  1.266394  \n",
       "\n",
       "[96 rows x 700 columns]"
      ]
     },
     "execution_count": 33,
     "metadata": {},
     "output_type": "execute_result"
    }
   ],
   "source": [
    "X_test"
   ]
  },
  {
   "cell_type": "code",
   "execution_count": 34,
   "id": "b320a309",
   "metadata": {},
   "outputs": [
    {
     "data": {
      "text/html": [
       "<div>\n",
       "<style scoped>\n",
       "    .dataframe tbody tr th:only-of-type {\n",
       "        vertical-align: middle;\n",
       "    }\n",
       "\n",
       "    .dataframe tbody tr th {\n",
       "        vertical-align: top;\n",
       "    }\n",
       "\n",
       "    .dataframe thead th {\n",
       "        text-align: right;\n",
       "    }\n",
       "</style>\n",
       "<table border=\"1\" class=\"dataframe\">\n",
       "  <thead>\n",
       "    <tr style=\"text-align: right;\">\n",
       "      <th></th>\n",
       "      <th>PC1</th>\n",
       "      <th>PC2</th>\n",
       "      <th>PC3</th>\n",
       "    </tr>\n",
       "  </thead>\n",
       "  <tbody>\n",
       "    <tr>\n",
       "      <th>0</th>\n",
       "      <td>0.078208</td>\n",
       "      <td>-0.040801</td>\n",
       "      <td>-0.00385</td>\n",
       "    </tr>\n",
       "  </tbody>\n",
       "</table>\n",
       "</div>"
      ],
      "text/plain": [
       "        PC1       PC2      PC3\n",
       "0  0.078208 -0.040801 -0.00385"
      ]
     },
     "execution_count": 34,
     "metadata": {},
     "output_type": "execute_result"
    }
   ],
   "source": [
    "pca_test_df.iloc[0:1]"
   ]
  },
  {
   "cell_type": "code",
   "execution_count": 35,
   "id": "Jfrj31RkLjBy",
   "metadata": {
    "id": "Jfrj31RkLjBy"
   },
   "outputs": [],
   "source": [
    "# Uploading test DataFrame as csv for User Interface\n",
    "# pca_test_df_withlabels.to_csv('pca_test.csv')"
   ]
  },
  {
   "cell_type": "code",
   "execution_count": 36,
   "id": "6523eccb",
   "metadata": {
    "id": "6523eccb"
   },
   "outputs": [],
   "source": [
    "X=pca_train_df[['PC1','PC2','PC3']]\n",
    "y=pca_train_df['Target']\n"
   ]
  },
  {
   "cell_type": "code",
   "execution_count": 37,
   "id": "ab2f6d88",
   "metadata": {
    "colab": {
     "base_uri": "https://localhost:8080/"
    },
    "id": "ab2f6d88",
    "outputId": "69fcf1bc-2acf-487b-d965-10fe69ded414"
   },
   "outputs": [
    {
     "data": {
      "text/html": [
       "<div>\n",
       "<style scoped>\n",
       "    .dataframe tbody tr th:only-of-type {\n",
       "        vertical-align: middle;\n",
       "    }\n",
       "\n",
       "    .dataframe tbody tr th {\n",
       "        vertical-align: top;\n",
       "    }\n",
       "\n",
       "    .dataframe thead th {\n",
       "        text-align: right;\n",
       "    }\n",
       "</style>\n",
       "<table border=\"1\" class=\"dataframe\">\n",
       "  <thead>\n",
       "    <tr style=\"text-align: right;\">\n",
       "      <th></th>\n",
       "      <th>PC1</th>\n",
       "      <th>PC2</th>\n",
       "      <th>PC3</th>\n",
       "    </tr>\n",
       "  </thead>\n",
       "  <tbody>\n",
       "    <tr>\n",
       "      <th>0</th>\n",
       "      <td>0.168326</td>\n",
       "      <td>0.115197</td>\n",
       "      <td>0.000055</td>\n",
       "    </tr>\n",
       "    <tr>\n",
       "      <th>1</th>\n",
       "      <td>-0.119021</td>\n",
       "      <td>0.031507</td>\n",
       "      <td>0.035939</td>\n",
       "    </tr>\n",
       "    <tr>\n",
       "      <th>2</th>\n",
       "      <td>-0.054392</td>\n",
       "      <td>0.016421</td>\n",
       "      <td>-0.003026</td>\n",
       "    </tr>\n",
       "    <tr>\n",
       "      <th>3</th>\n",
       "      <td>0.080441</td>\n",
       "      <td>-0.101960</td>\n",
       "      <td>-0.076277</td>\n",
       "    </tr>\n",
       "    <tr>\n",
       "      <th>4</th>\n",
       "      <td>0.165869</td>\n",
       "      <td>-0.055690</td>\n",
       "      <td>0.007540</td>\n",
       "    </tr>\n",
       "    <tr>\n",
       "      <th>...</th>\n",
       "      <td>...</td>\n",
       "      <td>...</td>\n",
       "      <td>...</td>\n",
       "    </tr>\n",
       "    <tr>\n",
       "      <th>377</th>\n",
       "      <td>0.117942</td>\n",
       "      <td>-0.049196</td>\n",
       "      <td>-0.053595</td>\n",
       "    </tr>\n",
       "    <tr>\n",
       "      <th>378</th>\n",
       "      <td>-0.136397</td>\n",
       "      <td>0.168119</td>\n",
       "      <td>0.107982</td>\n",
       "    </tr>\n",
       "    <tr>\n",
       "      <th>379</th>\n",
       "      <td>-0.018299</td>\n",
       "      <td>0.058526</td>\n",
       "      <td>0.042226</td>\n",
       "    </tr>\n",
       "    <tr>\n",
       "      <th>380</th>\n",
       "      <td>0.179626</td>\n",
       "      <td>0.061526</td>\n",
       "      <td>-0.148261</td>\n",
       "    </tr>\n",
       "    <tr>\n",
       "      <th>381</th>\n",
       "      <td>-0.297614</td>\n",
       "      <td>0.002689</td>\n",
       "      <td>0.059218</td>\n",
       "    </tr>\n",
       "  </tbody>\n",
       "</table>\n",
       "<p>382 rows × 3 columns</p>\n",
       "</div>"
      ],
      "text/plain": [
       "          PC1       PC2       PC3\n",
       "0    0.168326  0.115197  0.000055\n",
       "1   -0.119021  0.031507  0.035939\n",
       "2   -0.054392  0.016421 -0.003026\n",
       "3    0.080441 -0.101960 -0.076277\n",
       "4    0.165869 -0.055690  0.007540\n",
       "..        ...       ...       ...\n",
       "377  0.117942 -0.049196 -0.053595\n",
       "378 -0.136397  0.168119  0.107982\n",
       "379 -0.018299  0.058526  0.042226\n",
       "380  0.179626  0.061526 -0.148261\n",
       "381 -0.297614  0.002689  0.059218\n",
       "\n",
       "[382 rows x 3 columns]"
      ]
     },
     "execution_count": 37,
     "metadata": {},
     "output_type": "execute_result"
    }
   ],
   "source": [
    "# Analysis by LDA - Linear Discriminant Analysis, training model using train dataset\n",
    "\n",
    "lda_obj = LDA()\n",
    "lda_obj.fit(X, y)\n",
    "\n",
    "X"
   ]
  },
  {
   "cell_type": "code",
   "execution_count": 38,
   "id": "6bde7cec",
   "metadata": {},
   "outputs": [],
   "source": [
    "# Exporting model file .pkl for User Interface\n",
    "pickle.dump(lda_obj, open('static/Models/PCALDA.pkl','wb'))"
   ]
  },
  {
   "cell_type": "code",
   "execution_count": 39,
   "id": "1f715008",
   "metadata": {
    "colab": {
     "base_uri": "https://localhost:8080/"
    },
    "id": "1f715008",
    "outputId": "72a26d34-28dd-4a1d-aebc-0f87bdd5185e"
   },
   "outputs": [
    {
     "name": "stdout",
     "output_type": "stream",
     "text": [
      "LDA with PCA Accuracy: 77.08%\n"
     ]
    }
   ],
   "source": [
    "# Model is trained with training datasets, now testing the accuracy against the test dataset.\n",
    "\n",
    "pred_honey_label=lda_obj.predict(pca_test_df)\n",
    "lda_accuracy = metrics.accuracy_score(y_test, pred_honey_label)\n",
    "print(\"LDA with PCA Accuracy: {:.2f}%\".format(lda_accuracy * 100))"
   ]
  },
  {
   "cell_type": "code",
   "execution_count": 40,
   "id": "3a3e9911",
   "metadata": {
    "colab": {
     "base_uri": "https://localhost:8080/",
     "height": 35
    },
    "id": "3a3e9911",
    "outputId": "774d2a13-c35e-47df-d84b-6104c1281f3c"
   },
   "outputs": [
    {
     "data": {
      "text/plain": [
       "'FG'"
      ]
     },
     "execution_count": 40,
     "metadata": {},
     "output_type": "execute_result"
    }
   ],
   "source": [
    "pred_honey_label[11]\n"
   ]
  },
  {
   "cell_type": "code",
   "execution_count": 41,
   "id": "01e7c892",
   "metadata": {
    "colab": {
     "base_uri": "https://localhost:8080/",
     "height": 35
    },
    "id": "01e7c892",
    "outputId": "a3712d54-865a-4b77-99ee-687f0d8b9b77"
   },
   "outputs": [
    {
     "data": {
      "text/plain": [
       "'PURE'"
      ]
     },
     "execution_count": 41,
     "metadata": {},
     "output_type": "execute_result"
    }
   ],
   "source": [
    "y_test[11]"
   ]
  },
  {
   "cell_type": "code",
   "execution_count": 42,
   "id": "adb3bb6f",
   "metadata": {},
   "outputs": [
    {
     "data": {
      "image/png": "[encoded data removed]",
      "text/plain": [
       "<Figure size 597.5x500 with 1 Axes>"
      ]
     },
     "metadata": {},
     "output_type": "display_data"
    }
   ],
   "source": [
    "sns.set()\n",
    " \n",
    "sns.lmplot(\n",
    "    x='PC1', \n",
    "    y='PC2', \n",
    "    data=pca_train_df, \n",
    "    hue='Target', \n",
    "    fit_reg=False, \n",
    "    legend=True\n",
    "    )\n",
    " \n",
    "plt.title('2D PCA Graph')\n",
    "plt.show()"
   ]
  },
  {
   "cell_type": "markdown",
   "id": "daf02b6c",
   "metadata": {
    "id": "daf02b6c"
   },
   "source": [
    "##### Creating Confusion Matrix:\n",
    "\n",
    "It is a table that is used in classification problems to assess where errors in the model were made.\n",
    "\n",
    "The rows represent the actual classes the outcomes should have been. While the columns represent the predictions we have made. Using this table it is easy to see which predictions are wrong.\n",
    "\n"
   ]
  },
  {
   "cell_type": "code",
   "execution_count": 45,
   "id": "971d9953",
   "metadata": {},
   "outputs": [
    {
     "name": "stdout",
     "output_type": "stream",
     "text": [
      "[[ 4  0  0  7]\n",
      " [ 1 40  4  0]\n",
      " [ 1  2  5  0]\n",
      " [ 2  5  0 25]]\n"
     ]
    },
    {
     "data": {
      "image/png": "[encoded data removed]",
      "text/plain": [
       "<Figure size 640x480 with 2 Axes>"
      ]
     },
     "metadata": {},
     "output_type": "display_data"
    }
   ],
   "source": [
    "\n",
    "pcalda=confusion_matrix(y_test, pred_honey_label)\n",
    "print(pcalda)\n",
    "cmap = plt.cm.get_cmap('Blues')\n",
    "\n",
    "# Plotting confusion matrix as heatmap\n",
    "plt.imshow(pcalda, interpolation='nearest', cmap=cmap)\n",
    "plt.colorbar()\n",
    "\n",
    "# Set labels\n",
    "tick_marks = np.arange(len(np.unique(y_test)))\n",
    "plt.xticks(tick_marks, np.unique(y_test))\n",
    "plt.yticks(tick_marks, np.unique(y_test))\n",
    "plt.xlabel('Predicted Labels')\n",
    "plt.ylabel('True Labels')\n",
    "\n",
    "# Adding text to every cell to show the count\n",
    "mid = pcalda.max() / 2.\n",
    "for i, j in np.ndindex(pcalda.shape):\n",
    "    plt.text(j, i, pcalda[i, j],\n",
    "             horizontalalignment=\"center\",\n",
    "             color=\"white\" if pcalda[i, j] > mid else \"black\")\n",
    "\n",
    "# Show and save the confusion matrix plot\n",
    "plt.savefig('static/Graphs/PCALDA.png')\n",
    "plt.show()"
   ]
  },
  {
   "cell_type": "markdown",
   "id": "7DhpoiAHJpMA",
   "metadata": {
    "id": "7DhpoiAHJpMA"
   },
   "source": []
  },
  {
   "cell_type": "markdown",
   "id": "JKKp3iuUJreD",
   "metadata": {
    "id": "JKKp3iuUJreD"
   },
   "source": [
    "Now Applying QDA algorithm on the features extracted by PCA"
   ]
  },
  {
   "cell_type": "code",
   "execution_count": null,
   "id": "f1YTAbx9KGiT",
   "metadata": {
    "id": "f1YTAbx9KGiT"
   },
   "outputs": [],
   "source": [
    "X=pca_train_df[['PC1','PC2','PC3']]\n",
    "y=pca_train_df['Target']\n",
    "\n"
   ]
  },
  {
   "cell_type": "code",
   "execution_count": null,
   "id": "Jg6PfZJTPFoc",
   "metadata": {
    "colab": {
     "base_uri": "https://localhost:8080/",
     "height": 303
    },
    "id": "Jg6PfZJTPFoc",
    "outputId": "47a431a8-f9e8-4b48-ba06-a23b375730fa"
   },
   "outputs": [],
   "source": [
    " \n",
    "fig = plt.figure()\n",
    " \n",
    "# syntax for 3-D projection\n",
    "ax = plt.axes(projection ='3d')\n",
    " \n",
    "# defining all 3 axis\n",
    "z1 =   pca_train_df['PC1']\n",
    "x1 =   pca_train_df['PC2']\n",
    "y1 =   pca_train_df['PC3']\n",
    " \n",
    "# plotting\n",
    "ax.plot3D(x1, y1, z1, 'red')\n",
    "ax.set_title('3D line plot for PCA components')\n",
    "plt.show()"
   ]
  },
  {
   "cell_type": "code",
   "execution_count": null,
   "id": "xcuWTSoJKaHD",
   "metadata": {
    "colab": {
     "base_uri": "https://localhost:8080/",
     "height": 17
    },
    "id": "xcuWTSoJKaHD",
    "outputId": "106a3aaa-1a72-4015-a448-0c9c76b66ad3"
   },
   "outputs": [],
   "source": [
    "\n",
    "\n",
    "\n",
    "qda_obj = QDA()\n",
    "qda_obj.fit(X, y)\n",
    "pickle.dump(qda_obj, open('static/Models/PCAQDA.pkl','wb'))\n"
   ]
  },
  {
   "cell_type": "code",
   "execution_count": null,
   "id": "26SzwJznKcuf",
   "metadata": {
    "colab": {
     "base_uri": "https://localhost:8080/"
    },
    "id": "26SzwJznKcuf",
    "outputId": "6582c02c-ddd9-40bf-b337-2f90ab889542"
   },
   "outputs": [],
   "source": [
    "qda_pred_honey=qda_obj.predict(pca_test_df)\n",
    "\n",
    "qda_Accuracy = metrics.accuracy_score(y_test, qda_pred_honey)\n",
    "print(\"QDA with PCA Accuracy: {:.2f}%\".format(qda_Accuracy * 100))"
   ]
  },
  {
   "cell_type": "code",
   "execution_count": null,
   "id": "c5qDP-fyNvpu",
   "metadata": {
    "colab": {
     "base_uri": "https://localhost:8080/",
     "height": 408
    },
    "id": "c5qDP-fyNvpu",
    "outputId": "1280db67-e893-4d2b-a40e-c0579b69f853"
   },
   "outputs": [],
   "source": [
    "pcaqda=confusion_matrix(y_test, qda_pred_honey)\n",
    "print(pcaqda)\n",
    "cmap = plt.cm.get_cmap('Blues')\n",
    "\n",
    "# Plotting confusion matrix as heatmap\n",
    "plt.imshow(pcaqda, interpolation='nearest', cmap=cmap)\n",
    "plt.colorbar()\n",
    "\n",
    "# Set labels\n",
    "tick_marks = np.arange(len(np.unique(y_test)))\n",
    "plt.xticks(tick_marks, np.unique(y_test))\n",
    "plt.yticks(tick_marks, np.unique(y_test))\n",
    "plt.xlabel('Predicted Labels')\n",
    "plt.ylabel('True Labels')\n",
    "\n",
    "# Adding text to every cell to show the count\n",
    "mid = pcaqda.max() / 2.\n",
    "for i, j in np.ndindex(pcaqda.shape):\n",
    "    plt.text(j, i, pcaqda[i, j],\n",
    "             horizontalalignment=\"center\",\n",
    "             color=\"white\" if pcaqda[i, j] > mid else \"black\")\n",
    "plt.savefig('static/Graphs/PCAQDA.png')\n",
    "plt.show()\n",
    "\n"
   ]
  },
  {
   "cell_type": "markdown",
   "id": "29woDTB2CoIs",
   "metadata": {
    "id": "29woDTB2CoIs"
   },
   "source": [
    "Now Implementing another Dimension reduction technique - TSNE (T-Distributed Stochastic Neighbor Embedding)"
   ]
  },
  {
   "cell_type": "code",
   "execution_count": null,
   "id": "LYtWSxPVEPvp",
   "metadata": {
    "id": "LYtWSxPVEPvp"
   },
   "outputs": [],
   "source": [
    "def get_tsne_df(X_train_df,X_test_df,y_train,y_test):\n",
    "    # TSNE for Dimension Reduction\n",
    "    tsne_train_std_data = StandardScaler().fit_transform(X_train_df)\n",
    "    tsne_test_std_data = StandardScaler().fit_transform(X_test_df)\n",
    "\n",
    "    tsne = TSNE(n_components = 3,random_state=0)\n",
    "\n",
    "    tsne_train_sne = tsne.fit_transform(tsne_train_std_data)\n",
    "    tsne_test_sne = tsne.fit_transform(tsne_test_std_data)\n",
    "  \n",
    "    tsne_train_sne = np.vstack((tsne_train_sne.T, y_train)).T\n",
    "    tsne_test_sne = np.vstack((tsne_test_sne.T, y_test)).T    \n",
    "    \n",
    "    tsne_train_df = pd.DataFrame(data=tsne_train_sne, columns=(\"SNE1\", \"SNE2\", \"SNE3\",\"Target\"))\n",
    "    tsne_test_df = pd.DataFrame(data=tsne_test_sne, columns=(\"SNE1\", \"SNE2\", \"SNE3\",\"Target\"))\n",
    "\n",
    "    tsne_test_df=tsne_test_df.drop('Target',axis=1)\n",
    "\n",
    "    \n",
    "    return (tsne_train_df,tsne_test_df)\n"
   ]
  },
  {
   "cell_type": "code",
   "execution_count": null,
   "id": "ZJ4n0JKXJMPm",
   "metadata": {
    "id": "ZJ4n0JKXJMPm"
   },
   "outputs": [],
   "source": [
    "tsne_train_df,tsne_test_df=get_tsne_df(X_train,X_test,y_train,y_test)"
   ]
  },
  {
   "cell_type": "code",
   "execution_count": null,
   "id": "QgASd3n5LzoT",
   "metadata": {
    "id": "QgASd3n5LzoT"
   },
   "outputs": [],
   "source": [
    "# tsne_test_df_withlabel.to_csv('tsne_test.csv')"
   ]
  },
  {
   "cell_type": "code",
   "execution_count": null,
   "id": "hmZXXqSMYa6E",
   "metadata": {
    "id": "hmZXXqSMYa6E"
   },
   "outputs": [],
   "source": []
  },
  {
   "cell_type": "code",
   "execution_count": null,
   "id": "oSo_kxbJZwcA",
   "metadata": {
    "id": "oSo_kxbJZwcA"
   },
   "outputs": [],
   "source": [
    "X_tsne=tsne_train_df[['SNE1','SNE2','SNE3']]\n",
    "y_tsne=tsne_train_df['Target']\n"
   ]
  },
  {
   "cell_type": "code",
   "execution_count": null,
   "id": "jdz67hcaGyVs",
   "metadata": {
    "colab": {
     "base_uri": "https://localhost:8080/"
    },
    "id": "jdz67hcaGyVs",
    "outputId": "eeaf4071-e84c-4073-e96e-8377e920ae7f"
   },
   "outputs": [],
   "source": [
    "\n",
    "# Analysis by LDA - Linear Discriminant Analysis, training model using train SNE dataset\n",
    "\n",
    "lda_sne_obj = LDA()\n",
    "lda_sne_obj.fit(X_tsne, y_tsne)"
   ]
  },
  {
   "cell_type": "code",
   "execution_count": null,
   "id": "qNtdu0j1unlW",
   "metadata": {
    "id": "qNtdu0j1unlW"
   },
   "outputs": [],
   "source": []
  },
  {
   "cell_type": "code",
   "execution_count": null,
   "id": "3RvHrCdyZVTd",
   "metadata": {
    "colab": {
     "base_uri": "https://localhost:8080/"
    },
    "id": "3RvHrCdyZVTd",
    "outputId": "d5cbf204-427d-4109-b8bf-045e11bb299a"
   },
   "outputs": [],
   "source": [
    "# Model is trained with training datasets, now testing the accuracy against the test dataset.\n",
    "sne_pred_honey_label=lda_sne_obj.predict(tsne_test_df)\n",
    "lda_tsne_accuracy = metrics.accuracy_score(y_test, sne_pred_honey_label)\n",
    "print(\"LDA with TSNE Accuracy: {:.2f}%\".format(lda_tsne_accuracy * 100))"
   ]
  },
  {
   "cell_type": "code",
   "execution_count": null,
   "id": "43116dbe",
   "metadata": {},
   "outputs": [],
   "source": [
    "sne_pred_honey_label"
   ]
  },
  {
   "cell_type": "code",
   "execution_count": null,
   "id": "FOnpWGcBZXK0",
   "metadata": {
    "colab": {
     "base_uri": "https://localhost:8080/",
     "height": 408
    },
    "id": "FOnpWGcBZXK0",
    "outputId": "953715dd-d023-426d-9bc1-0e309dc0f916"
   },
   "outputs": [],
   "source": [
    "snelda=confusion_matrix(y_test, sne_pred_honey_label)\n",
    "print(snelda)\n",
    "cmap = plt.cm.get_cmap('Blues')\n",
    "\n",
    "# Plotting confusion matrix as heatmap\n",
    "plt.imshow(snelda, interpolation='nearest', cmap=cmap)\n",
    "plt.colorbar()\n",
    "\n",
    "# Set labels\n",
    "tick_marks = np.arange(len(np.unique(y_test)))\n",
    "plt.xticks(tick_marks, np.unique(y_test))\n",
    "plt.yticks(tick_marks, np.unique(y_test))\n",
    "plt.xlabel('Predicted Labels')\n",
    "plt.ylabel('True Labels')\n",
    "\n",
    "# Adding text to every cell to show the count\n",
    "mid = snelda.max() / 2.\n",
    "for i, j in np.ndindex(snelda.shape):\n",
    "    plt.text(j, i, snelda[i, j],\n",
    "             horizontalalignment=\"center\",\n",
    "             color=\"white\" if snelda[i, j] > mid else \"black\")\n",
    "\n",
    "# Show and save the confusion matrix plot"
   ]
  },
  {
   "cell_type": "markdown",
   "id": "bTx6z4VUg3aM",
   "metadata": {
    "id": "bTx6z4VUg3aM"
   },
   "source": [
    "Now applying QDA on filterted features by TSNE\n"
   ]
  },
  {
   "cell_type": "code",
   "execution_count": null,
   "id": "j0nPWDCEg-zU",
   "metadata": {
    "colab": {
     "base_uri": "https://localhost:8080/"
    },
    "id": "j0nPWDCEg-zU",
    "outputId": "7c0ce223-83c4-434a-8b66-cce1e9650115"
   },
   "outputs": [],
   "source": [
    "\n",
    "qda_sne_obj = QDA()\n",
    "qda_sne_obj.fit(X_tsne, y_tsne)\n",
    "\n",
    "tsne_pred_honey_label=qda_sne_obj.predict(tsne_test_df)\n",
    "qda_tsne_accuracy = metrics.accuracy_score(y_test, tsne_pred_honey_label)\n",
    "print(\"QDA with TSNE Accuracy: {:.2f}%\".format(qda_tsne_accuracy * 100))"
   ]
  },
  {
   "cell_type": "code",
   "execution_count": null,
   "id": "34ab3dbf",
   "metadata": {},
   "outputs": [],
   "source": [
    "# Isometric Mapping (Isomap) \n",
    "\n"
   ]
  },
  {
   "cell_type": "code",
   "execution_count": null,
   "id": "2d6bbfb4",
   "metadata": {},
   "outputs": [],
   "source": [
    "def get_isomap_df(X_train_df,X_test_df,y_train,y_test):\n",
    "    # Isomap for Dimension Reduction\n",
    "    Isomap_obj = Isomap(n_components=3)\n",
    "    X_isomap_train = Isomap_obj.fit_transform(X_train_df)\n",
    "    X_isomap_test = Isomap_obj.fit_transform(X_test_df)\n",
    "    isomap_train_df = pd.DataFrame(data=X_isomap_train, columns=(\"ISOMAP1\", \"ISOMAP2\", \"ISOMAP3\"))\n",
    "    isomap_test_df = pd.DataFrame(data=X_isomap_test, columns=(\"ISOMAP1\", \"ISOMAP2\", \"ISOMAP3\"))\n",
    "    isomap_train_df['Target']=y_train\n",
    "    return (isomap_train_df,isomap_test_df)\n"
   ]
  },
  {
   "cell_type": "code",
   "execution_count": null,
   "id": "5e45a5e7",
   "metadata": {},
   "outputs": [],
   "source": [
    "isomap_train_df,isomap_test_df = get_isomap_df(X_train,X_test,y_train,y_test)\n",
    "isomap_test_df"
   ]
  },
  {
   "cell_type": "code",
   "execution_count": null,
   "id": "fb14ba6a",
   "metadata": {},
   "outputs": [],
   "source": [
    "# Analysis by LDA - Linear Discriminant Analysis, training model using train ISOMAP dataset\n",
    "\n",
    "X=isomap_train_df[['ISOMAP1','ISOMAP2','ISOMAP3']]\n",
    "y=y_train\n",
    "\n",
    "isomap_lda_obj = LDA()\n",
    "isomap_lda_obj.fit(X, y)"
   ]
  },
  {
   "cell_type": "code",
   "execution_count": null,
   "id": "453bf791",
   "metadata": {},
   "outputs": [],
   "source": [
    "isomap_train_df"
   ]
  },
  {
   "cell_type": "code",
   "execution_count": null,
   "id": "295673fd",
   "metadata": {},
   "outputs": [],
   "source": [
    "# Model is trained with training datasets, now testing the accuracy against the test dataset.\n",
    "isomap_pred_honey_label=isomap_lda_obj.predict(isomap_test_df)\n",
    "lda_isomap_accuracy = metrics.accuracy_score(y_test, isomap_pred_honey_label)\n",
    "\n",
    "\n",
    "print(\"LDA with ISOMAP Accuracy: {:.2f}%\".format(lda_isomap_accuracy * 100))"
   ]
  },
  {
   "cell_type": "code",
   "execution_count": null,
   "id": "f850daa3",
   "metadata": {},
   "outputs": [],
   "source": [
    "# Implementing more Machine Learning algorithms to check the performance\n",
    "# Stochastic Gradient Descent (SGDClassifier) with PCA\n",
    "\n",
    "X=pca_train_df[['PC1','PC2','PC3']]\n",
    "y=pca_train_df['Target']\n",
    "SGDC_obj = SGDClassifier(max_iter=5000, tol=1e-3, random_state=1)\n",
    "\n",
    "SGDC_obj.fit(X,y)\n",
    "pickle.dump(SGDC_obj, open('static/Models/SGDCPCA.pkl','wb'))\n",
    "\n"
   ]
  },
  {
   "cell_type": "code",
   "execution_count": null,
   "id": "e590f8a4",
   "metadata": {},
   "outputs": [],
   "source": [
    "SGDC_pred_honey_label=SGDC_obj.predict(pca_test_df)\n",
    "SGDC_accuracy = metrics.accuracy_score(y_test, SGDC_pred_honey_label)\n",
    "print(\"SGDC with PCA Accuracy: {:.2f}%\".format(SGDC_accuracy * 100))"
   ]
  },
  {
   "cell_type": "code",
   "execution_count": null,
   "id": "41b38780",
   "metadata": {
    "scrolled": true
   },
   "outputs": [],
   "source": [
    "# Confusion Matrix\n",
    "pcasgdc=confusion_matrix(y_test, SGDC_pred_honey_label)\n",
    "print(pcasgdc)\n",
    "cmap = plt.cm.get_cmap('Blues')\n",
    "\n",
    "# Plotting confusion matrix as heatmap\n",
    "plt.imshow(pcasgdc, interpolation='nearest', cmap=cmap)\n",
    "plt.colorbar()\n",
    "\n",
    "# Set labels\n",
    "tick_marks = np.arange(len(np.unique(y_test)))\n",
    "plt.xticks(tick_marks, np.unique(y_test))\n",
    "plt.yticks(tick_marks, np.unique(y_test))\n",
    "plt.xlabel('Predicted Labels')\n",
    "plt.ylabel('True Labels')\n",
    "\n",
    "# Adding text to every cell to show the count\n",
    "mid = pcasgdc.max() / 2.\n",
    "for i, j in np.ndindex(pcasgdc.shape):\n",
    "    plt.text(j, i, pcasgdc[i, j],\n",
    "             horizontalalignment=\"center\",\n",
    "             color=\"white\" if pcasgdc[i, j] > mid else \"black\")\n",
    "\n",
    "# Show and save the confusion matrix plot\n",
    "plt.savefig('static/Graphs/PCASGDC.png')\n",
    "plt.show()"
   ]
  },
  {
   "cell_type": "code",
   "execution_count": null,
   "id": "7410ace3",
   "metadata": {},
   "outputs": [],
   "source": [
    "# Stochastic Gradient Descent (SGDClassifier) with TSNE\n",
    "\n",
    "X=tsne_train_df[['SNE1','SNE2','SNE3']]\n",
    "y=tsne_train_df['Target']\n",
    "SGDC_tsne_obj = SGDClassifier(max_iter=5000, tol=1e-3, random_state=1)\n",
    "\n",
    "SGDC_tsne_obj.fit(X, y)\n",
    "pickle.dump(SGDC_obj, open('static/Models/SGDCTSNE.pkl','wb'))"
   ]
  },
  {
   "cell_type": "code",
   "execution_count": null,
   "id": "fb725183",
   "metadata": {},
   "outputs": [],
   "source": [
    "SGDC_tsne_pred_honey_label=SGDC_tsne_obj.predict(tsne_test_df)\n",
    "SGDC_tsne_accuracy = metrics.accuracy_score(y_test, SGDC_tsne_pred_honey_label)\n",
    "print(\"SGDC with TSNE Accuracy: {:.2f}%\".format(SGDC_tsne_accuracy * 100))"
   ]
  },
  {
   "cell_type": "code",
   "execution_count": null,
   "id": "454d6109",
   "metadata": {},
   "outputs": [],
   "source": [
    "# Conclusion- PCA represent the best of dataset, hence will use only PCA for future Algorithms"
   ]
  },
  {
   "cell_type": "code",
   "execution_count": null,
   "id": "1288beab",
   "metadata": {},
   "outputs": [],
   "source": [
    "# Implementing more Machine Learning algorithms to check the performance\n",
    "# KNeighborsClassifier with PCA\n",
    "\n",
    "\n",
    "X=pca_train_df[['PC1','PC2','PC3']]\n",
    "y=pca_train_df['Target']\n",
    "KN_obj=KNeighborsClassifier(n_neighbors=5)\n",
    "KN_obj.fit(X,y)\n",
    "pickle.dump(KN_obj, open('static/Models/PCAKNN.pkl','wb'))"
   ]
  },
  {
   "cell_type": "code",
   "execution_count": null,
   "id": "b106771c",
   "metadata": {},
   "outputs": [],
   "source": [
    "KN_pred_honey_label=KN_obj.predict(pca_test_df)\n",
    "KN_pca_accuracy = metrics.accuracy_score(y_test, KN_pred_honey_label)\n",
    "print(\"KNN with PCA Accuracy: {:.2f}%\".format(KN_pca_accuracy * 100))"
   ]
  },
  {
   "cell_type": "code",
   "execution_count": null,
   "id": "7acbfa8f",
   "metadata": {},
   "outputs": [],
   "source": [
    "# Confusion Matrix\n",
    "pcaknn=confusion_matrix(y_test, KN_pred_honey_label)\n",
    "print(pcaknn)\n",
    "cmap = plt.cm.get_cmap('Blues')\n",
    "\n",
    "# Plotting confusion matrix as heatmap\n",
    "plt.imshow(pcaknn, interpolation='nearest', cmap=cmap)\n",
    "plt.colorbar()\n",
    "\n",
    "# Set labels\n",
    "tick_marks = np.arange(len(np.unique(y_test)))\n",
    "plt.xticks(tick_marks, np.unique(y_test))\n",
    "plt.yticks(tick_marks, np.unique(y_test))\n",
    "plt.xlabel('Predicted Labels')\n",
    "plt.ylabel('True Labels')\n",
    "\n",
    "# Adding text to every cell to show the count\n",
    "mid = pcaknn.max() / 2.\n",
    "for i, j in np.ndindex(pcaknn.shape):\n",
    "    plt.text(j, i, pcaknn[i, j],\n",
    "             horizontalalignment=\"center\",\n",
    "             color=\"white\" if pcaknn[i, j] > mid else \"black\")\n",
    "\n",
    "# Show and save the confusion matrix plot\n",
    "plt.savefig('static/Graphs/PCAKNN.png')\n",
    "plt.show()"
   ]
  },
  {
   "cell_type": "code",
   "execution_count": null,
   "id": "51f0e5cf",
   "metadata": {},
   "outputs": [],
   "source": [
    "# KNeighborsClassifier with TSNE\n",
    "X=tsne_train_df[['SNE1','SNE2','SNE3']]\n",
    "y=tsne_train_df['Target']\n",
    "KN_TSNE_obj=KNeighborsClassifier(n_neighbors=5)\n",
    "KN_TSNE_obj.fit(X,y)"
   ]
  },
  {
   "cell_type": "code",
   "execution_count": null,
   "id": "7cd5bcc5",
   "metadata": {},
   "outputs": [],
   "source": [
    "# Predicting using KNeighborsClassifier and printing accuracy\n",
    "KN_TSNE_pred_honey_label=KN_TSNE_obj.predict(tsne_test_df)\n",
    "KN_tsne_accuracy = metrics.accuracy_score(y_test, KN_TSNE_pred_honey_label)\n",
    "print(\"KNN with TSNE Accuracy: {:.2f}%\".format(KN_tsne_accuracy * 100))"
   ]
  },
  {
   "cell_type": "code",
   "execution_count": null,
   "id": "13da59d1",
   "metadata": {},
   "outputs": [],
   "source": [
    "# SVM (Support Vector Machines) with PCA\n",
    "\n",
    "\n",
    "X=pca_train_df[['PC1','PC2','PC3']]\n",
    "y=pca_train_df['Target']\n",
    "SVM_obj= svm.SVC()\n",
    "SVM_obj.fit(X,y)\n",
    "pickle.dump(SVM_obj, open('static/Models/PCASVM.pkl','wb'))\n"
   ]
  },
  {
   "cell_type": "code",
   "execution_count": null,
   "id": "e8100d14",
   "metadata": {},
   "outputs": [],
   "source": [
    "# Predicting using Support Vector Machines and printing accuracy\n",
    "\n",
    "SVM_pred_honey_label=SVM_obj.predict(pca_test_df)\n",
    "SVM_pca_accuracy = metrics.accuracy_score(y_test, SVM_pred_honey_label)\n",
    "print(\"SVM with PCA Accuracy: {:.2f}%\".format(SVM_pca_accuracy * 100))"
   ]
  },
  {
   "cell_type": "code",
   "execution_count": null,
   "id": "6550ddcc",
   "metadata": {},
   "outputs": [],
   "source": [
    "# Confusion Matrix\n",
    "pcasvm=confusion_matrix(y_test, SVM_pred_honey_label)\n",
    "print(pcasvm)\n",
    "cmap = plt.cm.get_cmap('Blues')\n",
    "\n",
    "# Plotting confusion matrix as heatmap\n",
    "plt.imshow(pcasvm, interpolation='nearest', cmap=cmap)\n",
    "plt.colorbar()\n",
    "\n",
    "# Set labels\n",
    "tick_marks = np.arange(len(np.unique(y_test)))\n",
    "plt.xticks(tick_marks, np.unique(y_test))\n",
    "plt.yticks(tick_marks, np.unique(y_test))\n",
    "plt.xlabel('Predicted Labels')\n",
    "plt.ylabel('True Labels')\n",
    "\n",
    "# Adding text to every cell to show the count\n",
    "mid = pcasvm.max() / 2.\n",
    "for i, j in np.ndindex(pcasvm.shape):\n",
    "    plt.text(j, i, pcasvm[i, j],\n",
    "             horizontalalignment=\"center\",\n",
    "             color=\"white\" if pcasvm[i, j] > mid else \"black\")\n",
    "\n",
    "# Show and save the confusion matrix plot\n",
    "plt.savefig('static/Graphs/PCASVM.png')\n",
    "plt.show()"
   ]
  },
  {
   "cell_type": "code",
   "execution_count": null,
   "id": "8674a526",
   "metadata": {},
   "outputs": [],
   "source": [
    "# LogisticRegression with PCA\n",
    "\n",
    "\n",
    "X=pca_train_df[['PC1','PC2','PC3']]\n",
    "y=pca_train_df['Target']\n",
    "LOG_obj= LogisticRegression(random_state=1)\n",
    "LOG_obj.fit(X,y)"
   ]
  },
  {
   "cell_type": "code",
   "execution_count": null,
   "id": "69b5b2aa",
   "metadata": {},
   "outputs": [],
   "source": [
    "# Predicting using Support Vector Machines and printing accuracy\n",
    "LOG_pred_honey_label=LOG_obj.predict(pca_test_df)\n",
    "LOG_pca_accuracy = metrics.accuracy_score(y_test, LOG_pred_honey_label)\n",
    "print(\"Logistic Regression with PCA Accuracy: {:.2f}%\".format(LOG_pca_accuracy * 100))"
   ]
  },
  {
   "cell_type": "code",
   "execution_count": null,
   "id": "23a94724",
   "metadata": {},
   "outputs": [],
   "source": [
    "\n",
    "\n",
    "le_obj = LabelEncoder()\n",
    "pls_train_df=X_train.copy()\n",
    "\n",
    "# Replace categorical values in column 'Honey Label' with integers\n",
    "\n",
    "pls_train_df['Honey Label'] = le_obj.fit_transform(y_train)\n",
    "y_pls_test=y_test.copy()\n",
    "\n",
    "y_pls_test = le_obj.fit_transform(y_pls_test)\n",
    "\n",
    "# X=pls_train_df.drop('Honey Label', axis=1)\n",
    "X=pls_train_df.drop('Honey Label', axis=1)\n",
    "\n",
    "y=pls_train_df['Honey Label']\n",
    "\n",
    "pls_obj = PLSRegression(n_components=3)\n",
    "pls_obj.fit(X, y)\n",
    "\n",
    "# Making predictions on test dataset\n",
    "\n",
    "PLS_pred_honey_label = pls_obj.predict(X_test)\n",
    "PLS_pred_honey_label = np.round(PLS_pred_honey_label).astype(int)\n"
   ]
  },
  {
   "cell_type": "code",
   "execution_count": null,
   "id": "2da4ca38",
   "metadata": {},
   "outputs": [],
   "source": [
    "PLS_pca_accuracy = metrics.accuracy_score(y_pls_test, PLS_pred_honey_label)\n",
    "print(\"Partial Least Squares (PLS) with PCA Accuracy: {:.2f}%\".format(PLS_pca_accuracy * 100))"
   ]
  },
  {
   "cell_type": "code",
   "execution_count": null,
   "id": "6e1992e5",
   "metadata": {},
   "outputs": [],
   "source": [
    "# Printing Accuracy score of each Algorithm\n",
    "\n",
    "print(\"LDA with PCA Accuracy: {:.2f}%\".format(lda_accuracy * 100))\n",
    "print(\"QDA with PCA Accuracy: {:.2f}%\".format(qda_Accuracy * 100))\n",
    "print(\"LDA with TSNE Accuracy: {:.2f}%\".format(lda_tsne_accuracy * 100))\n",
    "print(\"QDA with TSNE Accuracy: {:.2f}%\".format(qda_tsne_accuracy * 100))\n",
    "print(\"LDA with ISOMAP Accuracy: {:.2f}%\".format(lda_isomap_accuracy * 100))\n",
    "print(\"SGDA with PCA Accuracy: {:.2f}%\".format(SGDC_accuracy * 100))\n",
    "print(\"SGDC with TSNE Accuracy: {:.2f}%\".format(SGDC_tsne_accuracy * 100))\n",
    "print(\"KNN with PCA Accuracy: {:.2f}%\".format(KN_pca_accuracy * 100))\n",
    "print(\"KNN with TSNE Accuracy: {:.2f}%\".format(KN_tsne_accuracy * 100))\n",
    "print(\"SVM with PCA Accuracy: {:.2f}%\".format(SVM_pca_accuracy * 100))\n",
    "print(\"Logistic Regression with PCA Accuracy: {:.2f}%\".format(LOG_pca_accuracy * 100))\n",
    "print(\"Partial Least Squares (PLS): {:.2f}%\".format(PLS_pca_accuracy * 100))"
   ]
  },
  {
   "cell_type": "code",
   "execution_count": null,
   "id": "0b7c2c75",
   "metadata": {},
   "outputs": [],
   "source": []
  },
  {
   "cell_type": "code",
   "execution_count": null,
   "id": "d593e7a1",
   "metadata": {},
   "outputs": [],
   "source": []
  }
 ],
 "metadata": {
  "colab": {
   "provenance": []
  },
  "kernelspec": {
   "display_name": "Python 3 (ipykernel)",
   "language": "python",
   "name": "python3"
  },
  "language_info": {
   "codemirror_mode": {
    "name": "ipython",
    "version": 3
   },
   "file_extension": ".py",
   "mimetype": "text/x-python",
   "name": "python",
   "nbconvert_exporter": "python",
   "pygments_lexer": "ipython3",
   "version": "3.9.12"
  }
 },
 "nbformat": 4,
 "nbformat_minor": 5
}
